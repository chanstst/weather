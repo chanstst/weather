{
 "cells": [
  {
   "cell_type": "markdown",
   "id": "ad5c8165-c47a-4ab0-9a72-19a73ff76e5d",
   "metadata": {},
   "source": [
    "# EDA weather data"
   ]
  },
  {
   "cell_type": "markdown",
   "id": "f7595ce1-a818-402a-ab64-09b77d8ae386",
   "metadata": {},
   "source": [
    "Adapted from https://www.tensorflow.org/tutorials/structured_data/time_series"
   ]
  },
  {
   "cell_type": "code",
   "execution_count": 1,
   "id": "3bdb7b80-7fae-48bb-96ab-08ff21badbb7",
   "metadata": {},
   "outputs": [],
   "source": [
    "import numpy as np\n",
    "import pandas as pd\n",
    "import matplotlib.pyplot as plt"
   ]
  },
  {
   "cell_type": "code",
   "execution_count": 2,
   "id": "9cfe4234-4d38-4082-be16-3b90e025cd3b",
   "metadata": {},
   "outputs": [
    {
     "name": "stderr",
     "output_type": "stream",
     "text": [
      "<frozen importlib._bootstrap>:228: RuntimeWarning: scipy._lib.messagestream.MessageStream size changed, may indicate binary incompatibility. Expected 56 from C header, got 64 from PyObject\n"
     ]
    }
   ],
   "source": [
    "import seaborn as sns"
   ]
  },
  {
   "cell_type": "code",
   "execution_count": 3,
   "id": "6075a611-b8c6-4112-ab39-fbc9a153bd31",
   "metadata": {},
   "outputs": [],
   "source": [
    "import lightgbm as lgb"
   ]
  },
  {
   "cell_type": "code",
   "execution_count": 4,
   "id": "5172c166-2751-49fb-8051-ca3eeef51601",
   "metadata": {},
   "outputs": [],
   "source": [
    "from scipy import stats\n",
    "import os\n",
    "import sys\n",
    "import pathlib\n",
    "# myfunction_path = str(pathlib.Path(\"../../common\").resolve())\n",
    "# myfunction_path = os.path.join(os.path.dirname(__file__), \"../../common\") #uncomment for py scripts\n",
    "myfunction_path = str(pathlib.Path(\"./common\").resolve())\n",
    "sys.path.insert(0, myfunction_path)\n",
    "from myfunctions import *\n",
    "\n",
    "pd.set_option(\"display.precision\", 2)"
   ]
  },
  {
   "cell_type": "code",
   "execution_count": 5,
   "id": "705f935e-f751-42dd-9fc1-43fee376a807",
   "metadata": {},
   "outputs": [],
   "source": [
    "path = 'data/weather/'"
   ]
  },
  {
   "cell_type": "code",
   "execution_count": 6,
   "id": "57e73454-a02c-47ec-a9d7-e6d635c9b16c",
   "metadata": {},
   "outputs": [],
   "source": [
    "file_source = 'jena_climate_2009_2016.csv'\n",
    "\n",
    "# output files\n",
    "file_x_train = \"x_train.csv\"\n",
    "file_x_val = \"x_val.csv\"\n",
    "file_x_test = \"x_test.csv\"\n",
    "file_y_train = \"y_train.csv\"\n",
    "file_y_val = \"y_val.csv\"\n",
    "file_y_test = \"y_test.csv\""
   ]
  },
  {
   "cell_type": "code",
   "execution_count": 7,
   "id": "6a601ec9-c164-4b66-95fa-700bd0e1830b",
   "metadata": {},
   "outputs": [
    {
     "data": {
      "text/html": [
       "<div>\n",
       "<style scoped>\n",
       "    .dataframe tbody tr th:only-of-type {\n",
       "        vertical-align: middle;\n",
       "    }\n",
       "\n",
       "    .dataframe tbody tr th {\n",
       "        vertical-align: top;\n",
       "    }\n",
       "\n",
       "    .dataframe thead th {\n",
       "        text-align: right;\n",
       "    }\n",
       "</style>\n",
       "<table border=\"1\" class=\"dataframe\">\n",
       "  <thead>\n",
       "    <tr style=\"text-align: right;\">\n",
       "      <th></th>\n",
       "      <th>Date Time</th>\n",
       "      <th>p (mbar)</th>\n",
       "      <th>T (degC)</th>\n",
       "      <th>Tpot (K)</th>\n",
       "      <th>Tdew (degC)</th>\n",
       "      <th>rh (%)</th>\n",
       "      <th>VPmax (mbar)</th>\n",
       "      <th>VPact (mbar)</th>\n",
       "      <th>VPdef (mbar)</th>\n",
       "      <th>sh (g/kg)</th>\n",
       "      <th>H2OC (mmol/mol)</th>\n",
       "      <th>rho (g/m**3)</th>\n",
       "      <th>wv (m/s)</th>\n",
       "      <th>max. wv (m/s)</th>\n",
       "      <th>wd (deg)</th>\n",
       "    </tr>\n",
       "  </thead>\n",
       "  <tbody>\n",
       "    <tr>\n",
       "      <th>0</th>\n",
       "      <td>01.01.2009 00:10:00</td>\n",
       "      <td>996.52</td>\n",
       "      <td>-8.02</td>\n",
       "      <td>265.40</td>\n",
       "      <td>-8.90</td>\n",
       "      <td>93.3</td>\n",
       "      <td>3.33</td>\n",
       "      <td>3.11</td>\n",
       "      <td>0.22</td>\n",
       "      <td>1.94</td>\n",
       "      <td>3.12</td>\n",
       "      <td>1307.75</td>\n",
       "      <td>1.03</td>\n",
       "      <td>1.75</td>\n",
       "      <td>152.3</td>\n",
       "    </tr>\n",
       "    <tr>\n",
       "      <th>1</th>\n",
       "      <td>01.01.2009 00:20:00</td>\n",
       "      <td>996.57</td>\n",
       "      <td>-8.41</td>\n",
       "      <td>265.01</td>\n",
       "      <td>-9.28</td>\n",
       "      <td>93.4</td>\n",
       "      <td>3.23</td>\n",
       "      <td>3.02</td>\n",
       "      <td>0.21</td>\n",
       "      <td>1.89</td>\n",
       "      <td>3.03</td>\n",
       "      <td>1309.80</td>\n",
       "      <td>0.72</td>\n",
       "      <td>1.50</td>\n",
       "      <td>136.1</td>\n",
       "    </tr>\n",
       "    <tr>\n",
       "      <th>2</th>\n",
       "      <td>01.01.2009 00:30:00</td>\n",
       "      <td>996.53</td>\n",
       "      <td>-8.51</td>\n",
       "      <td>264.91</td>\n",
       "      <td>-9.31</td>\n",
       "      <td>93.9</td>\n",
       "      <td>3.21</td>\n",
       "      <td>3.01</td>\n",
       "      <td>0.20</td>\n",
       "      <td>1.88</td>\n",
       "      <td>3.02</td>\n",
       "      <td>1310.24</td>\n",
       "      <td>0.19</td>\n",
       "      <td>0.63</td>\n",
       "      <td>171.6</td>\n",
       "    </tr>\n",
       "    <tr>\n",
       "      <th>3</th>\n",
       "      <td>01.01.2009 00:40:00</td>\n",
       "      <td>996.51</td>\n",
       "      <td>-8.31</td>\n",
       "      <td>265.12</td>\n",
       "      <td>-9.07</td>\n",
       "      <td>94.2</td>\n",
       "      <td>3.26</td>\n",
       "      <td>3.07</td>\n",
       "      <td>0.19</td>\n",
       "      <td>1.92</td>\n",
       "      <td>3.08</td>\n",
       "      <td>1309.19</td>\n",
       "      <td>0.34</td>\n",
       "      <td>0.50</td>\n",
       "      <td>198.0</td>\n",
       "    </tr>\n",
       "    <tr>\n",
       "      <th>4</th>\n",
       "      <td>01.01.2009 00:50:00</td>\n",
       "      <td>996.51</td>\n",
       "      <td>-8.27</td>\n",
       "      <td>265.15</td>\n",
       "      <td>-9.04</td>\n",
       "      <td>94.1</td>\n",
       "      <td>3.27</td>\n",
       "      <td>3.08</td>\n",
       "      <td>0.19</td>\n",
       "      <td>1.92</td>\n",
       "      <td>3.09</td>\n",
       "      <td>1309.00</td>\n",
       "      <td>0.32</td>\n",
       "      <td>0.63</td>\n",
       "      <td>214.3</td>\n",
       "    </tr>\n",
       "  </tbody>\n",
       "</table>\n",
       "</div>"
      ],
      "text/plain": [
       "             Date Time  p (mbar)  T (degC)  Tpot (K)  Tdew (degC)  rh (%)  \\\n",
       "0  01.01.2009 00:10:00    996.52     -8.02    265.40        -8.90    93.3   \n",
       "1  01.01.2009 00:20:00    996.57     -8.41    265.01        -9.28    93.4   \n",
       "2  01.01.2009 00:30:00    996.53     -8.51    264.91        -9.31    93.9   \n",
       "3  01.01.2009 00:40:00    996.51     -8.31    265.12        -9.07    94.2   \n",
       "4  01.01.2009 00:50:00    996.51     -8.27    265.15        -9.04    94.1   \n",
       "\n",
       "   VPmax (mbar)  VPact (mbar)  VPdef (mbar)  sh (g/kg)  H2OC (mmol/mol)  \\\n",
       "0          3.33          3.11          0.22       1.94             3.12   \n",
       "1          3.23          3.02          0.21       1.89             3.03   \n",
       "2          3.21          3.01          0.20       1.88             3.02   \n",
       "3          3.26          3.07          0.19       1.92             3.08   \n",
       "4          3.27          3.08          0.19       1.92             3.09   \n",
       "\n",
       "   rho (g/m**3)  wv (m/s)  max. wv (m/s)  wd (deg)  \n",
       "0       1307.75      1.03           1.75     152.3  \n",
       "1       1309.80      0.72           1.50     136.1  \n",
       "2       1310.24      0.19           0.63     171.6  \n",
       "3       1309.19      0.34           0.50     198.0  \n",
       "4       1309.00      0.32           0.63     214.3  "
      ]
     },
     "execution_count": 7,
     "metadata": {},
     "output_type": "execute_result"
    }
   ],
   "source": [
    "df_source = pd.read_csv(f'{path}{file_source}', index_col=0)\n",
    "df_source.head()"
   ]
  },
  {
   "cell_type": "code",
   "execution_count": 8,
   "id": "41200a8a-d0fa-415c-8738-292007210929",
   "metadata": {},
   "outputs": [
    {
     "data": {
      "text/plain": [
       "(420551, 15)"
      ]
     },
     "execution_count": 8,
     "metadata": {},
     "output_type": "execute_result"
    }
   ],
   "source": [
    "df_source.shape"
   ]
  },
  {
   "cell_type": "code",
   "execution_count": 9,
   "id": "3ceea1aa-4c70-4a2e-9ee0-a65463a9e81d",
   "metadata": {},
   "outputs": [],
   "source": [
    "# Slice [start:stop:step], starting from index 5 take every 6th record.\n",
    "# truncated df\n",
    "df = df_source[5::6]\n",
    "\n",
    "date_time = pd.to_datetime(df.pop('Date Time'), format='%d.%m.%Y %H:%M:%S')"
   ]
  },
  {
   "cell_type": "markdown",
   "id": "b8eb890f-7612-4edf-abe0-88c96896ef60",
   "metadata": {},
   "source": [
    "### Data cleaning"
   ]
  },
  {
   "cell_type": "code",
   "execution_count": 10,
   "id": "22a58068-1e9c-471e-9e29-81f735d23833",
   "metadata": {},
   "outputs": [
    {
     "data": {
      "text/html": [
       "<div>\n",
       "<style scoped>\n",
       "    .dataframe tbody tr th:only-of-type {\n",
       "        vertical-align: middle;\n",
       "    }\n",
       "\n",
       "    .dataframe tbody tr th {\n",
       "        vertical-align: top;\n",
       "    }\n",
       "\n",
       "    .dataframe thead th {\n",
       "        text-align: right;\n",
       "    }\n",
       "</style>\n",
       "<table border=\"1\" class=\"dataframe\">\n",
       "  <thead>\n",
       "    <tr style=\"text-align: right;\">\n",
       "      <th></th>\n",
       "      <th>count</th>\n",
       "      <th>mean</th>\n",
       "      <th>std</th>\n",
       "      <th>min</th>\n",
       "      <th>25%</th>\n",
       "      <th>50%</th>\n",
       "      <th>75%</th>\n",
       "      <th>max</th>\n",
       "    </tr>\n",
       "  </thead>\n",
       "  <tbody>\n",
       "    <tr>\n",
       "      <th>p (mbar)</th>\n",
       "      <td>70091.0</td>\n",
       "      <td>989.21</td>\n",
       "      <td>8.36</td>\n",
       "      <td>913.60</td>\n",
       "      <td>984.20</td>\n",
       "      <td>989.57</td>\n",
       "      <td>994.72</td>\n",
       "      <td>1015.29</td>\n",
       "    </tr>\n",
       "    <tr>\n",
       "      <th>T (degC)</th>\n",
       "      <td>70091.0</td>\n",
       "      <td>9.45</td>\n",
       "      <td>8.42</td>\n",
       "      <td>-22.76</td>\n",
       "      <td>3.35</td>\n",
       "      <td>9.41</td>\n",
       "      <td>15.48</td>\n",
       "      <td>37.28</td>\n",
       "    </tr>\n",
       "    <tr>\n",
       "      <th>Tpot (K)</th>\n",
       "      <td>70091.0</td>\n",
       "      <td>283.49</td>\n",
       "      <td>8.50</td>\n",
       "      <td>250.85</td>\n",
       "      <td>277.44</td>\n",
       "      <td>283.46</td>\n",
       "      <td>289.53</td>\n",
       "      <td>311.21</td>\n",
       "    </tr>\n",
       "    <tr>\n",
       "      <th>Tdew (degC)</th>\n",
       "      <td>70091.0</td>\n",
       "      <td>4.96</td>\n",
       "      <td>6.73</td>\n",
       "      <td>-24.80</td>\n",
       "      <td>0.24</td>\n",
       "      <td>5.21</td>\n",
       "      <td>10.08</td>\n",
       "      <td>23.06</td>\n",
       "    </tr>\n",
       "    <tr>\n",
       "      <th>rh (%)</th>\n",
       "      <td>70091.0</td>\n",
       "      <td>76.01</td>\n",
       "      <td>16.47</td>\n",
       "      <td>13.88</td>\n",
       "      <td>65.21</td>\n",
       "      <td>79.30</td>\n",
       "      <td>89.40</td>\n",
       "      <td>100.00</td>\n",
       "    </tr>\n",
       "    <tr>\n",
       "      <th>VPmax (mbar)</th>\n",
       "      <td>70091.0</td>\n",
       "      <td>13.58</td>\n",
       "      <td>7.74</td>\n",
       "      <td>0.97</td>\n",
       "      <td>7.77</td>\n",
       "      <td>11.82</td>\n",
       "      <td>17.61</td>\n",
       "      <td>63.77</td>\n",
       "    </tr>\n",
       "    <tr>\n",
       "      <th>VPact (mbar)</th>\n",
       "      <td>70091.0</td>\n",
       "      <td>9.53</td>\n",
       "      <td>4.18</td>\n",
       "      <td>0.81</td>\n",
       "      <td>6.22</td>\n",
       "      <td>8.86</td>\n",
       "      <td>12.36</td>\n",
       "      <td>28.25</td>\n",
       "    </tr>\n",
       "    <tr>\n",
       "      <th>VPdef (mbar)</th>\n",
       "      <td>70091.0</td>\n",
       "      <td>4.04</td>\n",
       "      <td>4.90</td>\n",
       "      <td>0.00</td>\n",
       "      <td>0.87</td>\n",
       "      <td>2.19</td>\n",
       "      <td>5.30</td>\n",
       "      <td>46.01</td>\n",
       "    </tr>\n",
       "    <tr>\n",
       "      <th>sh (g/kg)</th>\n",
       "      <td>70091.0</td>\n",
       "      <td>6.02</td>\n",
       "      <td>2.66</td>\n",
       "      <td>0.51</td>\n",
       "      <td>3.92</td>\n",
       "      <td>5.59</td>\n",
       "      <td>7.80</td>\n",
       "      <td>18.07</td>\n",
       "    </tr>\n",
       "    <tr>\n",
       "      <th>H2OC (mmol/mol)</th>\n",
       "      <td>70091.0</td>\n",
       "      <td>9.64</td>\n",
       "      <td>4.23</td>\n",
       "      <td>0.81</td>\n",
       "      <td>6.29</td>\n",
       "      <td>8.96</td>\n",
       "      <td>12.49</td>\n",
       "      <td>28.74</td>\n",
       "    </tr>\n",
       "    <tr>\n",
       "      <th>rho (g/m**3)</th>\n",
       "      <td>70091.0</td>\n",
       "      <td>1216.06</td>\n",
       "      <td>39.97</td>\n",
       "      <td>1059.45</td>\n",
       "      <td>1187.47</td>\n",
       "      <td>1213.80</td>\n",
       "      <td>1242.76</td>\n",
       "      <td>1393.54</td>\n",
       "    </tr>\n",
       "    <tr>\n",
       "      <th>wv (m/s)</th>\n",
       "      <td>70091.0</td>\n",
       "      <td>1.70</td>\n",
       "      <td>65.45</td>\n",
       "      <td>-9999.00</td>\n",
       "      <td>0.99</td>\n",
       "      <td>1.76</td>\n",
       "      <td>2.86</td>\n",
       "      <td>14.01</td>\n",
       "    </tr>\n",
       "    <tr>\n",
       "      <th>max. wv (m/s)</th>\n",
       "      <td>70091.0</td>\n",
       "      <td>2.96</td>\n",
       "      <td>75.60</td>\n",
       "      <td>-9999.00</td>\n",
       "      <td>1.76</td>\n",
       "      <td>2.98</td>\n",
       "      <td>4.74</td>\n",
       "      <td>23.50</td>\n",
       "    </tr>\n",
       "    <tr>\n",
       "      <th>wd (deg)</th>\n",
       "      <td>70091.0</td>\n",
       "      <td>174.79</td>\n",
       "      <td>86.62</td>\n",
       "      <td>0.00</td>\n",
       "      <td>125.30</td>\n",
       "      <td>198.10</td>\n",
       "      <td>234.00</td>\n",
       "      <td>360.00</td>\n",
       "    </tr>\n",
       "  </tbody>\n",
       "</table>\n",
       "</div>"
      ],
      "text/plain": [
       "                   count     mean    std      min      25%      50%      75%  \\\n",
       "p (mbar)         70091.0   989.21   8.36   913.60   984.20   989.57   994.72   \n",
       "T (degC)         70091.0     9.45   8.42   -22.76     3.35     9.41    15.48   \n",
       "Tpot (K)         70091.0   283.49   8.50   250.85   277.44   283.46   289.53   \n",
       "Tdew (degC)      70091.0     4.96   6.73   -24.80     0.24     5.21    10.08   \n",
       "rh (%)           70091.0    76.01  16.47    13.88    65.21    79.30    89.40   \n",
       "VPmax (mbar)     70091.0    13.58   7.74     0.97     7.77    11.82    17.61   \n",
       "VPact (mbar)     70091.0     9.53   4.18     0.81     6.22     8.86    12.36   \n",
       "VPdef (mbar)     70091.0     4.04   4.90     0.00     0.87     2.19     5.30   \n",
       "sh (g/kg)        70091.0     6.02   2.66     0.51     3.92     5.59     7.80   \n",
       "H2OC (mmol/mol)  70091.0     9.64   4.23     0.81     6.29     8.96    12.49   \n",
       "rho (g/m**3)     70091.0  1216.06  39.97  1059.45  1187.47  1213.80  1242.76   \n",
       "wv (m/s)         70091.0     1.70  65.45 -9999.00     0.99     1.76     2.86   \n",
       "max. wv (m/s)    70091.0     2.96  75.60 -9999.00     1.76     2.98     4.74   \n",
       "wd (deg)         70091.0   174.79  86.62     0.00   125.30   198.10   234.00   \n",
       "\n",
       "                     max  \n",
       "p (mbar)         1015.29  \n",
       "T (degC)           37.28  \n",
       "Tpot (K)          311.21  \n",
       "Tdew (degC)        23.06  \n",
       "rh (%)            100.00  \n",
       "VPmax (mbar)       63.77  \n",
       "VPact (mbar)       28.25  \n",
       "VPdef (mbar)       46.01  \n",
       "sh (g/kg)          18.07  \n",
       "H2OC (mmol/mol)    28.74  \n",
       "rho (g/m**3)     1393.54  \n",
       "wv (m/s)           14.01  \n",
       "max. wv (m/s)      23.50  \n",
       "wd (deg)          360.00  "
      ]
     },
     "execution_count": 10,
     "metadata": {},
     "output_type": "execute_result"
    }
   ],
   "source": [
    "df.describe().transpose()"
   ]
  },
  {
   "cell_type": "code",
   "execution_count": 11,
   "id": "4d8719ad-35e7-4c15-8c80-069f43ba51d5",
   "metadata": {},
   "outputs": [
    {
     "name": "stderr",
     "output_type": "stream",
     "text": [
      "C:\\Users\\Sing\\AppData\\Local\\Temp/ipykernel_27036/35503740.py:6: SettingWithCopyWarning: \n",
      "A value is trying to be set on a copy of a slice from a DataFrame.\n",
      "Try using .loc[row_indexer,col_indexer] = value instead\n",
      "\n",
      "See the caveats in the documentation: https://pandas.pydata.org/pandas-docs/stable/user_guide/indexing.html#returning-a-view-versus-a-copy\n",
      "  df[field] = np.where(df[field] == value_old, value_new, df[field])\n",
      "C:\\Users\\Sing\\AppData\\Local\\Temp/ipykernel_27036/35503740.py:11: SettingWithCopyWarning: \n",
      "A value is trying to be set on a copy of a slice from a DataFrame.\n",
      "Try using .loc[row_indexer,col_indexer] = value instead\n",
      "\n",
      "See the caveats in the documentation: https://pandas.pydata.org/pandas-docs/stable/user_guide/indexing.html#returning-a-view-versus-a-copy\n",
      "  df[field] = np.where(df[field] == value_old, value_new, df[field])\n"
     ]
    }
   ],
   "source": [
    "# Imputation\n",
    "\n",
    "field = 'wv (m/s)'\n",
    "value_old = -9999.0\n",
    "value_new = 0\n",
    "df[field] = np.where(df[field] == value_old, value_new, df[field])\n",
    "\n",
    "field = 'max. wv (m/s)'\n",
    "value_old = -9999.0\n",
    "value_new = 0\n",
    "df[field] = np.where(df[field] == value_old, value_new, df[field])"
   ]
  },
  {
   "cell_type": "code",
   "execution_count": 12,
   "id": "4dad5f6f-e681-4c59-9871-04d904194c07",
   "metadata": {},
   "outputs": [
    {
     "data": {
      "text/plain": [
       "(0.0, 0.0)"
      ]
     },
     "execution_count": 12,
     "metadata": {},
     "output_type": "execute_result"
    }
   ],
   "source": [
    "df['wv (m/s)'].min(), df['max. wv (m/s)'].min()"
   ]
  },
  {
   "cell_type": "code",
   "execution_count": 13,
   "id": "29560fa6-bcfd-440f-830f-d6c799cb52a6",
   "metadata": {},
   "outputs": [],
   "source": [
    "# converting to pd timestamp format\n",
    "timestamp_s = date_time.map(pd.Timestamp.timestamp)"
   ]
  },
  {
   "cell_type": "code",
   "execution_count": 14,
   "id": "62f2c9ce-f485-41b8-899a-763f86ae4c81",
   "metadata": {},
   "outputs": [
    {
     "name": "stderr",
     "output_type": "stream",
     "text": [
      "C:\\Users\\Sing\\AppData\\Local\\Temp/ipykernel_27036/3247794760.py:4: SettingWithCopyWarning: \n",
      "A value is trying to be set on a copy of a slice from a DataFrame.\n",
      "Try using .loc[row_indexer,col_indexer] = value instead\n",
      "\n",
      "See the caveats in the documentation: https://pandas.pydata.org/pandas-docs/stable/user_guide/indexing.html#returning-a-view-versus-a-copy\n",
      "  df['Day sin'] = np.sin(timestamp_s * (2 * np.pi / day_in_sec))\n",
      "C:\\Users\\Sing\\AppData\\Local\\Temp/ipykernel_27036/3247794760.py:5: SettingWithCopyWarning: \n",
      "A value is trying to be set on a copy of a slice from a DataFrame.\n",
      "Try using .loc[row_indexer,col_indexer] = value instead\n",
      "\n",
      "See the caveats in the documentation: https://pandas.pydata.org/pandas-docs/stable/user_guide/indexing.html#returning-a-view-versus-a-copy\n",
      "  df['Day cos'] = np.cos(timestamp_s * (2 * np.pi / day_in_sec))\n",
      "C:\\Users\\Sing\\AppData\\Local\\Temp/ipykernel_27036/3247794760.py:6: SettingWithCopyWarning: \n",
      "A value is trying to be set on a copy of a slice from a DataFrame.\n",
      "Try using .loc[row_indexer,col_indexer] = value instead\n",
      "\n",
      "See the caveats in the documentation: https://pandas.pydata.org/pandas-docs/stable/user_guide/indexing.html#returning-a-view-versus-a-copy\n",
      "  df['Year sin'] = np.sin(timestamp_s * (2 * np.pi / year_in_sec))\n",
      "C:\\Users\\Sing\\AppData\\Local\\Temp/ipykernel_27036/3247794760.py:7: SettingWithCopyWarning: \n",
      "A value is trying to be set on a copy of a slice from a DataFrame.\n",
      "Try using .loc[row_indexer,col_indexer] = value instead\n",
      "\n",
      "See the caveats in the documentation: https://pandas.pydata.org/pandas-docs/stable/user_guide/indexing.html#returning-a-view-versus-a-copy\n",
      "  df['Year cos'] = np.cos(timestamp_s * (2 * np.pi / year_in_sec))\n"
     ]
    }
   ],
   "source": [
    "day_in_sec = 24*60*60\n",
    "year_in_sec = (365.2425)*day_in_sec\n",
    "\n",
    "df['Day sin'] = np.sin(timestamp_s * (2 * np.pi / day_in_sec))\n",
    "df['Day cos'] = np.cos(timestamp_s * (2 * np.pi / day_in_sec))\n",
    "df['Year sin'] = np.sin(timestamp_s * (2 * np.pi / year_in_sec))\n",
    "df['Year cos'] = np.cos(timestamp_s * (2 * np.pi / year_in_sec))"
   ]
  },
  {
   "cell_type": "code",
   "execution_count": 15,
   "id": "7c113aa3-8884-4799-9b9d-99c88ab80d76",
   "metadata": {},
   "outputs": [
    {
     "data": {
      "text/html": [
       "<div>\n",
       "<style scoped>\n",
       "    .dataframe tbody tr th:only-of-type {\n",
       "        vertical-align: middle;\n",
       "    }\n",
       "\n",
       "    .dataframe tbody tr th {\n",
       "        vertical-align: top;\n",
       "    }\n",
       "\n",
       "    .dataframe thead th {\n",
       "        text-align: right;\n",
       "    }\n",
       "</style>\n",
       "<table border=\"1\" class=\"dataframe\">\n",
       "  <thead>\n",
       "    <tr style=\"text-align: right;\">\n",
       "      <th></th>\n",
       "      <th>p (mbar)</th>\n",
       "      <th>T (degC)</th>\n",
       "      <th>Tpot (K)</th>\n",
       "      <th>Tdew (degC)</th>\n",
       "      <th>rh (%)</th>\n",
       "      <th>VPmax (mbar)</th>\n",
       "      <th>VPact (mbar)</th>\n",
       "      <th>VPdef (mbar)</th>\n",
       "      <th>sh (g/kg)</th>\n",
       "      <th>H2OC (mmol/mol)</th>\n",
       "      <th>rho (g/m**3)</th>\n",
       "      <th>wv (m/s)</th>\n",
       "      <th>max. wv (m/s)</th>\n",
       "      <th>wd (deg)</th>\n",
       "      <th>Day sin</th>\n",
       "      <th>Day cos</th>\n",
       "      <th>Year sin</th>\n",
       "      <th>Year cos</th>\n",
       "    </tr>\n",
       "  </thead>\n",
       "  <tbody>\n",
       "    <tr>\n",
       "      <th>5</th>\n",
       "      <td>996.50</td>\n",
       "      <td>-8.05</td>\n",
       "      <td>265.38</td>\n",
       "      <td>-8.78</td>\n",
       "      <td>94.4</td>\n",
       "      <td>3.33</td>\n",
       "      <td>3.14</td>\n",
       "      <td>0.19</td>\n",
       "      <td>1.96</td>\n",
       "      <td>3.15</td>\n",
       "      <td>1307.86</td>\n",
       "      <td>0.21</td>\n",
       "      <td>0.63</td>\n",
       "      <td>192.7</td>\n",
       "      <td>0.26</td>\n",
       "      <td>0.97</td>\n",
       "      <td>0.01</td>\n",
       "      <td>1.0</td>\n",
       "    </tr>\n",
       "    <tr>\n",
       "      <th>11</th>\n",
       "      <td>996.62</td>\n",
       "      <td>-8.88</td>\n",
       "      <td>264.54</td>\n",
       "      <td>-9.77</td>\n",
       "      <td>93.2</td>\n",
       "      <td>3.12</td>\n",
       "      <td>2.90</td>\n",
       "      <td>0.21</td>\n",
       "      <td>1.81</td>\n",
       "      <td>2.91</td>\n",
       "      <td>1312.25</td>\n",
       "      <td>0.25</td>\n",
       "      <td>0.63</td>\n",
       "      <td>190.3</td>\n",
       "      <td>0.50</td>\n",
       "      <td>0.87</td>\n",
       "      <td>0.01</td>\n",
       "      <td>1.0</td>\n",
       "    </tr>\n",
       "    <tr>\n",
       "      <th>17</th>\n",
       "      <td>996.84</td>\n",
       "      <td>-8.81</td>\n",
       "      <td>264.59</td>\n",
       "      <td>-9.66</td>\n",
       "      <td>93.5</td>\n",
       "      <td>3.13</td>\n",
       "      <td>2.93</td>\n",
       "      <td>0.20</td>\n",
       "      <td>1.83</td>\n",
       "      <td>2.94</td>\n",
       "      <td>1312.18</td>\n",
       "      <td>0.18</td>\n",
       "      <td>0.63</td>\n",
       "      <td>167.2</td>\n",
       "      <td>0.71</td>\n",
       "      <td>0.71</td>\n",
       "      <td>0.01</td>\n",
       "      <td>1.0</td>\n",
       "    </tr>\n",
       "    <tr>\n",
       "      <th>23</th>\n",
       "      <td>996.99</td>\n",
       "      <td>-9.05</td>\n",
       "      <td>264.34</td>\n",
       "      <td>-10.02</td>\n",
       "      <td>92.6</td>\n",
       "      <td>3.07</td>\n",
       "      <td>2.85</td>\n",
       "      <td>0.23</td>\n",
       "      <td>1.78</td>\n",
       "      <td>2.85</td>\n",
       "      <td>1313.61</td>\n",
       "      <td>0.10</td>\n",
       "      <td>0.38</td>\n",
       "      <td>240.0</td>\n",
       "      <td>0.87</td>\n",
       "      <td>0.50</td>\n",
       "      <td>0.01</td>\n",
       "      <td>1.0</td>\n",
       "    </tr>\n",
       "    <tr>\n",
       "      <th>29</th>\n",
       "      <td>997.46</td>\n",
       "      <td>-9.63</td>\n",
       "      <td>263.72</td>\n",
       "      <td>-10.65</td>\n",
       "      <td>92.2</td>\n",
       "      <td>2.94</td>\n",
       "      <td>2.71</td>\n",
       "      <td>0.23</td>\n",
       "      <td>1.69</td>\n",
       "      <td>2.71</td>\n",
       "      <td>1317.19</td>\n",
       "      <td>0.40</td>\n",
       "      <td>0.88</td>\n",
       "      <td>157.0</td>\n",
       "      <td>0.97</td>\n",
       "      <td>0.26</td>\n",
       "      <td>0.01</td>\n",
       "      <td>1.0</td>\n",
       "    </tr>\n",
       "  </tbody>\n",
       "</table>\n",
       "</div>"
      ],
      "text/plain": [
       "    p (mbar)  T (degC)  Tpot (K)  Tdew (degC)  rh (%)  VPmax (mbar)  \\\n",
       "5     996.50     -8.05    265.38        -8.78    94.4          3.33   \n",
       "11    996.62     -8.88    264.54        -9.77    93.2          3.12   \n",
       "17    996.84     -8.81    264.59        -9.66    93.5          3.13   \n",
       "23    996.99     -9.05    264.34       -10.02    92.6          3.07   \n",
       "29    997.46     -9.63    263.72       -10.65    92.2          2.94   \n",
       "\n",
       "    VPact (mbar)  VPdef (mbar)  sh (g/kg)  H2OC (mmol/mol)  rho (g/m**3)  \\\n",
       "5           3.14          0.19       1.96             3.15       1307.86   \n",
       "11          2.90          0.21       1.81             2.91       1312.25   \n",
       "17          2.93          0.20       1.83             2.94       1312.18   \n",
       "23          2.85          0.23       1.78             2.85       1313.61   \n",
       "29          2.71          0.23       1.69             2.71       1317.19   \n",
       "\n",
       "    wv (m/s)  max. wv (m/s)  wd (deg)  Day sin  Day cos  Year sin  Year cos  \n",
       "5       0.21           0.63     192.7     0.26     0.97      0.01       1.0  \n",
       "11      0.25           0.63     190.3     0.50     0.87      0.01       1.0  \n",
       "17      0.18           0.63     167.2     0.71     0.71      0.01       1.0  \n",
       "23      0.10           0.38     240.0     0.87     0.50      0.01       1.0  \n",
       "29      0.40           0.88     157.0     0.97     0.26      0.01       1.0  "
      ]
     },
     "execution_count": 15,
     "metadata": {},
     "output_type": "execute_result"
    }
   ],
   "source": [
    "df.head()"
   ]
  },
  {
   "cell_type": "markdown",
   "id": "1332c6e2-548b-41ab-a2d5-57993787a04c",
   "metadata": {},
   "source": [
    "### Look for correlated features with label"
   ]
  },
  {
   "cell_type": "code",
   "execution_count": 16,
   "id": "620901ac-a982-41df-a69e-5dba44a005cf",
   "metadata": {},
   "outputs": [
    {
     "data": {
      "text/plain": [
       "rho (g/m**3)      -0.96\n",
       "Year cos          -0.76\n",
       "rh (%)            -0.57\n",
       "Year sin          -0.23\n",
       "Day sin           -0.21\n",
       "Day cos           -0.16\n",
       "p (mbar)          -0.05\n",
       "wd (deg)           0.04\n",
       "wv (m/s)           0.09\n",
       "max. wv (m/s)      0.12\n",
       "VPdef (mbar)       0.76\n",
       "sh (g/kg)          0.87\n",
       "H2OC (mmol/mol)    0.87\n",
       "VPact (mbar)       0.87\n",
       "Tdew (degC)        0.90\n",
       "VPmax (mbar)       0.95\n",
       "Tpot (K)           1.00\n",
       "T (degC)           1.00\n",
       "Name: T (degC), dtype: float64"
      ]
     },
     "execution_count": 16,
     "metadata": {},
     "output_type": "execute_result"
    }
   ],
   "source": [
    "label = \"T (degC)\"\n",
    "df.corr()[label].sort_values()"
   ]
  },
  {
   "cell_type": "code",
   "execution_count": 17,
   "id": "9cca7108-3bb2-4114-88c7-aec2a56e479f",
   "metadata": {},
   "outputs": [
    {
     "data": {
      "text/plain": [
       "Index(['p (mbar)', 'T (degC)', 'Tpot (K)', 'Tdew (degC)', 'rh (%)',\n",
       "       'VPmax (mbar)', 'VPact (mbar)', 'VPdef (mbar)', 'sh (g/kg)',\n",
       "       'H2OC (mmol/mol)', 'rho (g/m**3)', 'wv (m/s)', 'max. wv (m/s)',\n",
       "       'wd (deg)', 'Day sin', 'Day cos', 'Year sin', 'Year cos'],\n",
       "      dtype='object')"
      ]
     },
     "execution_count": 17,
     "metadata": {},
     "output_type": "execute_result"
    }
   ],
   "source": [
    "df.columns"
   ]
  },
  {
   "cell_type": "code",
   "execution_count": 18,
   "id": "b4611871-b5e6-40c1-bd1d-8f3530dddc39",
   "metadata": {},
   "outputs": [],
   "source": [
    "# Reordering the columns - label to be the last column\n",
    "columns_new = df.columns.to_list()\n",
    "columns_new.remove(label)\n",
    "columns_new.append(label)\n",
    "df = df[columns_new].copy()"
   ]
  },
  {
   "cell_type": "code",
   "execution_count": 19,
   "id": "5e089618-9066-4c11-aeb0-90014e3a0b4e",
   "metadata": {},
   "outputs": [],
   "source": [
    "### Correlation matrix heatmap"
   ]
  },
  {
   "cell_type": "code",
   "execution_count": 20,
   "id": "dc52215d-7278-4625-91cb-76bc5ef37742",
   "metadata": {},
   "outputs": [],
   "source": [
    "df_corr = df.corr()\n",
    "\n",
    "mask = np.zeros_like(df_corr)\n",
    "mask[np.triu_indices_from(mask)] = True"
   ]
  },
  {
   "cell_type": "code",
   "execution_count": 21,
   "id": "550bec9a-8991-4deb-b65d-5be0ce54a8ac",
   "metadata": {},
   "outputs": [
    {
     "data": {
      "image/png": "[encoded data removed]",
      "text/plain": [
       "<Figure size 1080x720 with 2 Axes>"
      ]
     },
     "metadata": {
      "needs_background": "light"
     },
     "output_type": "display_data"
    }
   ],
   "source": [
    "# heatmap with white upper triangle\n",
    "plt.figure(figsize = (15,10))\n",
    "with sns.axes_style(\"white\"):\n",
    "    sns.heatmap(df_corr, mask = mask, square = True, annot = True, vmin = -1, vmax = 1, linewidths = .5)\n",
    "plt.savefig(f\"{path}heatmap.jpg\")\n",
    "plt.show();"
   ]
  },
  {
   "cell_type": "markdown",
   "id": "5b6f1a29-62c7-4cdf-835e-95ffcd6118a3",
   "metadata": {},
   "source": [
    "### Features of low correlations\n",
    "\n",
    "Several features, especially temperate features, are too highly correlated with the label, potentially data leakage\n",
    "- Tdew (degC)        0.90\n",
    "- Tpot (K)           1.00\n",
    "\n",
    "For illustration purpose, assume we take into account features of relatively low correlations, to be fed into various models"
   ]
  },
  {
   "cell_type": "code",
   "execution_count": 22,
   "id": "3f665aeb-6a4e-4943-b22b-7f73987ffcd0",
   "metadata": {},
   "outputs": [],
   "source": [
    "# features of low correlations\n",
    "low_corr_features = [\"Year sin\", \"Day sin\", \"Day cos\", \"p (mbar)\", \"wd (deg)\", \"wv (m/s)\", \"max. wv (m/s)\"]"
   ]
  },
  {
   "cell_type": "markdown",
   "id": "e46a570a-ba88-4b83-9cee-d99b56bd8486",
   "metadata": {},
   "source": [
    "### Data preparation for modelling"
   ]
  },
  {
   "cell_type": "code",
   "execution_count": 23,
   "id": "08af11a3-4cd2-48da-8da3-7a24186841f7",
   "metadata": {},
   "outputs": [],
   "source": [
    "# Split the data\n",
    "\n",
    "n = len(df)\n",
    "train_df = df[0:int(n*0.7)]\n",
    "val_df = df[int(n*0.7):int(n*0.9)]\n",
    "test_df = df[int(n*0.9):]\n",
    "\n",
    "num_features = df.shape[1]"
   ]
  },
  {
   "cell_type": "code",
   "execution_count": 24,
   "id": "22419105-ff76-42ee-9ddb-adc7cd7879a8",
   "metadata": {},
   "outputs": [],
   "source": [
    "train_mean = train_df.mean()\n",
    "train_std = train_df.std()\n",
    "\n",
    "train_df = (train_df - train_mean) / train_std\n",
    "val_df = (val_df - train_mean) / train_std\n",
    "test_df = (test_df - train_mean) / train_std"
   ]
  },
  {
   "cell_type": "markdown",
   "id": "9d0ac3eb-f15b-4a79-9bbe-a1afcf33cdf5",
   "metadata": {},
   "source": [
    "### Separating out labels"
   ]
  },
  {
   "cell_type": "code",
   "execution_count": 25,
   "id": "46496def-9755-4476-a27f-1d8698eae23e",
   "metadata": {},
   "outputs": [],
   "source": [
    "y = df[label].copy()"
   ]
  },
  {
   "cell_type": "code",
   "execution_count": 26,
   "id": "c4cdb559-12c3-4abd-947f-a2e23568afb9",
   "metadata": {},
   "outputs": [
    {
     "data": {
      "text/plain": [
       "5    -8.05\n",
       "11   -8.88\n",
       "17   -8.81\n",
       "23   -9.05\n",
       "29   -9.63\n",
       "Name: T (degC), dtype: float64"
      ]
     },
     "execution_count": 26,
     "metadata": {},
     "output_type": "execute_result"
    }
   ],
   "source": [
    "y.head()"
   ]
  },
  {
   "cell_type": "markdown",
   "id": "c954e928-2ae8-483e-9b1e-163b2cef68a6",
   "metadata": {},
   "source": [
    "### Features"
   ]
  },
  {
   "cell_type": "code",
   "execution_count": 27,
   "id": "11ea48e5-8635-46b9-a703-f9bf12b16758",
   "metadata": {},
   "outputs": [],
   "source": [
    "x_all = df.drop(columns=[label]).copy()"
   ]
  },
  {
   "cell_type": "code",
   "execution_count": 28,
   "id": "b8d00889-0be8-4c10-a0fb-76094042e299",
   "metadata": {},
   "outputs": [],
   "source": [
    "x_all = df[low_corr_features].copy()"
   ]
  },
  {
   "cell_type": "code",
   "execution_count": 29,
   "id": "61b627cf-8e0f-427e-8e69-1f359e0e63ae",
   "metadata": {},
   "outputs": [
    {
     "data": {
      "text/html": [
       "<div>\n",
       "<style scoped>\n",
       "    .dataframe tbody tr th:only-of-type {\n",
       "        vertical-align: middle;\n",
       "    }\n",
       "\n",
       "    .dataframe tbody tr th {\n",
       "        vertical-align: top;\n",
       "    }\n",
       "\n",
       "    .dataframe thead th {\n",
       "        text-align: right;\n",
       "    }\n",
       "</style>\n",
       "<table border=\"1\" class=\"dataframe\">\n",
       "  <thead>\n",
       "    <tr style=\"text-align: right;\">\n",
       "      <th></th>\n",
       "      <th>Year sin</th>\n",
       "      <th>Day sin</th>\n",
       "      <th>Day cos</th>\n",
       "      <th>p (mbar)</th>\n",
       "      <th>wd (deg)</th>\n",
       "      <th>wv (m/s)</th>\n",
       "      <th>max. wv (m/s)</th>\n",
       "    </tr>\n",
       "  </thead>\n",
       "  <tbody>\n",
       "    <tr>\n",
       "      <th>5</th>\n",
       "      <td>0.01</td>\n",
       "      <td>0.26</td>\n",
       "      <td>0.97</td>\n",
       "      <td>996.50</td>\n",
       "      <td>192.7</td>\n",
       "      <td>0.21</td>\n",
       "      <td>0.63</td>\n",
       "    </tr>\n",
       "    <tr>\n",
       "      <th>11</th>\n",
       "      <td>0.01</td>\n",
       "      <td>0.50</td>\n",
       "      <td>0.87</td>\n",
       "      <td>996.62</td>\n",
       "      <td>190.3</td>\n",
       "      <td>0.25</td>\n",
       "      <td>0.63</td>\n",
       "    </tr>\n",
       "    <tr>\n",
       "      <th>17</th>\n",
       "      <td>0.01</td>\n",
       "      <td>0.71</td>\n",
       "      <td>0.71</td>\n",
       "      <td>996.84</td>\n",
       "      <td>167.2</td>\n",
       "      <td>0.18</td>\n",
       "      <td>0.63</td>\n",
       "    </tr>\n",
       "    <tr>\n",
       "      <th>23</th>\n",
       "      <td>0.01</td>\n",
       "      <td>0.87</td>\n",
       "      <td>0.50</td>\n",
       "      <td>996.99</td>\n",
       "      <td>240.0</td>\n",
       "      <td>0.10</td>\n",
       "      <td>0.38</td>\n",
       "    </tr>\n",
       "    <tr>\n",
       "      <th>29</th>\n",
       "      <td>0.01</td>\n",
       "      <td>0.97</td>\n",
       "      <td>0.26</td>\n",
       "      <td>997.46</td>\n",
       "      <td>157.0</td>\n",
       "      <td>0.40</td>\n",
       "      <td>0.88</td>\n",
       "    </tr>\n",
       "  </tbody>\n",
       "</table>\n",
       "</div>"
      ],
      "text/plain": [
       "    Year sin  Day sin  Day cos  p (mbar)  wd (deg)  wv (m/s)  max. wv (m/s)\n",
       "5       0.01     0.26     0.97    996.50     192.7      0.21           0.63\n",
       "11      0.01     0.50     0.87    996.62     190.3      0.25           0.63\n",
       "17      0.01     0.71     0.71    996.84     167.2      0.18           0.63\n",
       "23      0.01     0.87     0.50    996.99     240.0      0.10           0.38\n",
       "29      0.01     0.97     0.26    997.46     157.0      0.40           0.88"
      ]
     },
     "execution_count": 29,
     "metadata": {},
     "output_type": "execute_result"
    }
   ],
   "source": [
    "x_all.head()"
   ]
  },
  {
   "cell_type": "markdown",
   "id": "86b80e96-d0e0-4ac4-b38f-4922a70c7d5a",
   "metadata": {},
   "source": [
    "### Train test split + normalization"
   ]
  },
  {
   "cell_type": "code",
   "execution_count": 30,
   "id": "18ec384c-29e7-42cd-99fc-9b1d7307aed1",
   "metadata": {},
   "outputs": [],
   "source": [
    "total_days = x_all.shape[0]\n",
    "\n",
    "# in percentages instead of decimals, to avoid round-off errors\n",
    "train_ratio = 70\n",
    "val_ratio = 20\n",
    "\n",
    "# LSTM input length\n",
    "n_input = 6\n",
    "total_window_size = 7 # no stride in label\n",
    "n_features = x_all.shape[1]"
   ]
  },
  {
   "cell_type": "code",
   "execution_count": 31,
   "id": "3c287994-3d1e-4021-b00d-2832fae8f0eb",
   "metadata": {},
   "outputs": [
    {
     "data": {
      "text/html": [
       "<div>\n",
       "<style scoped>\n",
       "    .dataframe tbody tr th:only-of-type {\n",
       "        vertical-align: middle;\n",
       "    }\n",
       "\n",
       "    .dataframe tbody tr th {\n",
       "        vertical-align: top;\n",
       "    }\n",
       "\n",
       "    .dataframe thead th {\n",
       "        text-align: right;\n",
       "    }\n",
       "</style>\n",
       "<table border=\"1\" class=\"dataframe\">\n",
       "  <thead>\n",
       "    <tr style=\"text-align: right;\">\n",
       "      <th></th>\n",
       "      <th>Year sin</th>\n",
       "      <th>Day sin</th>\n",
       "      <th>Day cos</th>\n",
       "      <th>p (mbar)</th>\n",
       "      <th>wd (deg)</th>\n",
       "      <th>wv (m/s)</th>\n",
       "      <th>max. wv (m/s)</th>\n",
       "    </tr>\n",
       "  </thead>\n",
       "  <tbody>\n",
       "    <tr>\n",
       "      <th>5</th>\n",
       "      <td>0.01</td>\n",
       "      <td>0.26</td>\n",
       "      <td>0.97</td>\n",
       "      <td>996.50</td>\n",
       "      <td>192.7</td>\n",
       "      <td>0.21</td>\n",
       "      <td>0.63</td>\n",
       "    </tr>\n",
       "    <tr>\n",
       "      <th>11</th>\n",
       "      <td>0.01</td>\n",
       "      <td>0.50</td>\n",
       "      <td>0.87</td>\n",
       "      <td>996.62</td>\n",
       "      <td>190.3</td>\n",
       "      <td>0.25</td>\n",
       "      <td>0.63</td>\n",
       "    </tr>\n",
       "    <tr>\n",
       "      <th>17</th>\n",
       "      <td>0.01</td>\n",
       "      <td>0.71</td>\n",
       "      <td>0.71</td>\n",
       "      <td>996.84</td>\n",
       "      <td>167.2</td>\n",
       "      <td>0.18</td>\n",
       "      <td>0.63</td>\n",
       "    </tr>\n",
       "    <tr>\n",
       "      <th>23</th>\n",
       "      <td>0.01</td>\n",
       "      <td>0.87</td>\n",
       "      <td>0.50</td>\n",
       "      <td>996.99</td>\n",
       "      <td>240.0</td>\n",
       "      <td>0.10</td>\n",
       "      <td>0.38</td>\n",
       "    </tr>\n",
       "    <tr>\n",
       "      <th>29</th>\n",
       "      <td>0.01</td>\n",
       "      <td>0.97</td>\n",
       "      <td>0.26</td>\n",
       "      <td>997.46</td>\n",
       "      <td>157.0</td>\n",
       "      <td>0.40</td>\n",
       "      <td>0.88</td>\n",
       "    </tr>\n",
       "  </tbody>\n",
       "</table>\n",
       "</div>"
      ],
      "text/plain": [
       "    Year sin  Day sin  Day cos  p (mbar)  wd (deg)  wv (m/s)  max. wv (m/s)\n",
       "5       0.01     0.26     0.97    996.50     192.7      0.21           0.63\n",
       "11      0.01     0.50     0.87    996.62     190.3      0.25           0.63\n",
       "17      0.01     0.71     0.71    996.84     167.2      0.18           0.63\n",
       "23      0.01     0.87     0.50    996.99     240.0      0.10           0.38\n",
       "29      0.01     0.97     0.26    997.46     157.0      0.40           0.88"
      ]
     },
     "execution_count": 31,
     "metadata": {},
     "output_type": "execute_result"
    }
   ],
   "source": [
    "x_all.head()"
   ]
  },
  {
   "cell_type": "code",
   "execution_count": 32,
   "id": "42fd8415-94e0-4b47-9a87-f29af7546f13",
   "metadata": {},
   "outputs": [
    {
     "data": {
      "text/plain": [
       "(70091, 7)"
      ]
     },
     "execution_count": 32,
     "metadata": {},
     "output_type": "execute_result"
    }
   ],
   "source": [
    "x_all.shape"
   ]
  },
  {
   "cell_type": "code",
   "execution_count": 33,
   "id": "01c63d92-792b-4c08-b937-f2b0ca061f4c",
   "metadata": {},
   "outputs": [
    {
     "data": {
      "text/plain": [
       "(49063, 63081)"
      ]
     },
     "execution_count": 33,
     "metadata": {},
     "output_type": "execute_result"
    }
   ],
   "source": [
    "int(train_ratio/100*total_days), int((train_ratio + val_ratio)/100*total_days)"
   ]
  },
  {
   "cell_type": "code",
   "execution_count": 34,
   "id": "b8d78047-3634-4a1b-93d2-73fc9239ef80",
   "metadata": {},
   "outputs": [
    {
     "data": {
      "text/plain": [
       "63081"
      ]
     },
     "execution_count": 34,
     "metadata": {},
     "output_type": "execute_result"
    }
   ],
   "source": [
    "int((train_ratio + val_ratio)/100*total_days)"
   ]
  },
  {
   "cell_type": "code",
   "execution_count": 35,
   "id": "ae9f1961-9229-4009-adf3-afb76c6896be",
   "metadata": {},
   "outputs": [],
   "source": [
    "x_train = x_all.iloc[:int(train_ratio/100*total_days),:]\n",
    "x_val = x_all.iloc[int(train_ratio/100*total_days):int((train_ratio + val_ratio)/100*total_days),:]\n",
    "x_test = x_all.iloc[int((train_ratio + val_ratio)/100*total_days):,:]"
   ]
  },
  {
   "cell_type": "code",
   "execution_count": 36,
   "id": "7e5a8b3c-d396-4063-b890-ec0824a692ce",
   "metadata": {},
   "outputs": [
    {
     "data": {
      "text/plain": [
       "((49063, 7), (14018, 7), (7010, 7))"
      ]
     },
     "execution_count": 36,
     "metadata": {},
     "output_type": "execute_result"
    }
   ],
   "source": [
    "x_train.shape, x_val.shape, x_test.shape"
   ]
  },
  {
   "cell_type": "code",
   "execution_count": 37,
   "id": "65dbc3fc-8af0-458c-80ba-3216983a94a2",
   "metadata": {},
   "outputs": [],
   "source": [
    "x_train_mean = x_train.mean()"
   ]
  },
  {
   "cell_type": "code",
   "execution_count": 38,
   "id": "6774f136-5c1f-48f6-bc92-578aa02c9714",
   "metadata": {},
   "outputs": [],
   "source": [
    "x_train_sd = x_train.std()"
   ]
  },
  {
   "cell_type": "code",
   "execution_count": 39,
   "id": "e45f331c-5c66-4d38-8698-63876f37adef",
   "metadata": {},
   "outputs": [],
   "source": [
    "x_train = (x_train - x_train_mean)/x_train_sd\n",
    "x_val = (x_val - x_train_mean)/x_train_sd\n",
    "x_test = (x_test - x_train_mean)/x_train_sd"
   ]
  },
  {
   "cell_type": "code",
   "execution_count": 40,
   "id": "633a0f18-f245-4b57-81d6-7c4b5bb4b206",
   "metadata": {},
   "outputs": [
    {
     "data": {
      "text/plain": [
       "((49063, 7), (14018, 7), (7010, 7))"
      ]
     },
     "execution_count": 40,
     "metadata": {},
     "output_type": "execute_result"
    }
   ],
   "source": [
    "x_train.shape, x_val.shape, x_test.shape"
   ]
  },
  {
   "cell_type": "code",
   "execution_count": 41,
   "id": "2e067a7e-50eb-4ab4-bdfc-77736f3dd9a9",
   "metadata": {},
   "outputs": [
    {
     "data": {
      "text/html": [
       "<div>\n",
       "<style scoped>\n",
       "    .dataframe tbody tr th:only-of-type {\n",
       "        vertical-align: middle;\n",
       "    }\n",
       "\n",
       "    .dataframe tbody tr th {\n",
       "        vertical-align: top;\n",
       "    }\n",
       "\n",
       "    .dataframe thead th {\n",
       "        text-align: right;\n",
       "    }\n",
       "</style>\n",
       "<table border=\"1\" class=\"dataframe\">\n",
       "  <thead>\n",
       "    <tr style=\"text-align: right;\">\n",
       "      <th></th>\n",
       "      <th>Year sin</th>\n",
       "      <th>Day sin</th>\n",
       "      <th>Day cos</th>\n",
       "      <th>p (mbar)</th>\n",
       "      <th>wd (deg)</th>\n",
       "      <th>wv (m/s)</th>\n",
       "      <th>max. wv (m/s)</th>\n",
       "    </tr>\n",
       "  </thead>\n",
       "  <tbody>\n",
       "    <tr>\n",
       "      <th>count</th>\n",
       "      <td>4.91e+04</td>\n",
       "      <td>4.91e+04</td>\n",
       "      <td>4.91e+04</td>\n",
       "      <td>4.91e+04</td>\n",
       "      <td>4.91e+04</td>\n",
       "      <td>4.91e+04</td>\n",
       "      <td>4.91e+04</td>\n",
       "    </tr>\n",
       "    <tr>\n",
       "      <th>mean</th>\n",
       "      <td>2.06e-16</td>\n",
       "      <td>-1.53e-17</td>\n",
       "      <td>-2.61e-17</td>\n",
       "      <td>9.87e-13</td>\n",
       "      <td>-2.51e-14</td>\n",
       "      <td>8.83e-15</td>\n",
       "      <td>7.27e-15</td>\n",
       "    </tr>\n",
       "    <tr>\n",
       "      <th>std</th>\n",
       "      <td>1.00e+00</td>\n",
       "      <td>1.00e+00</td>\n",
       "      <td>1.00e+00</td>\n",
       "      <td>1.00e+00</td>\n",
       "      <td>1.00e+00</td>\n",
       "      <td>1.00e+00</td>\n",
       "      <td>1.00e+00</td>\n",
       "    </tr>\n",
       "    <tr>\n",
       "      <th>min</th>\n",
       "      <td>-1.50e+00</td>\n",
       "      <td>-1.41e+00</td>\n",
       "      <td>-1.41e+00</td>\n",
       "      <td>-9.05e+00</td>\n",
       "      <td>-1.98e+00</td>\n",
       "      <td>-1.40e+00</td>\n",
       "      <td>-1.54e+00</td>\n",
       "    </tr>\n",
       "    <tr>\n",
       "      <th>25%</th>\n",
       "      <td>-9.86e-01</td>\n",
       "      <td>-1.00e+00</td>\n",
       "      <td>-1.00e+00</td>\n",
       "      <td>-6.09e-01</td>\n",
       "      <td>-6.33e-01</td>\n",
       "      <td>-7.39e-01</td>\n",
       "      <td>-7.60e-01</td>\n",
       "    </tr>\n",
       "    <tr>\n",
       "      <th>50%</th>\n",
       "      <td>7.75e-02</td>\n",
       "      <td>7.68e-05</td>\n",
       "      <td>1.02e-04</td>\n",
       "      <td>5.47e-02</td>\n",
       "      <td>2.67e-01</td>\n",
       "      <td>-2.31e-01</td>\n",
       "      <td>-2.25e-01</td>\n",
       "    </tr>\n",
       "    <tr>\n",
       "      <th>75%</th>\n",
       "      <td>9.87e-01</td>\n",
       "      <td>1.00e+00</td>\n",
       "      <td>1.00e+00</td>\n",
       "      <td>6.55e-01</td>\n",
       "      <td>6.93e-01</td>\n",
       "      <td>4.79e-01</td>\n",
       "      <td>5.21e-01</td>\n",
       "    </tr>\n",
       "    <tr>\n",
       "      <th>max</th>\n",
       "      <td>1.35e+00</td>\n",
       "      <td>1.41e+00</td>\n",
       "      <td>1.41e+00</td>\n",
       "      <td>2.91e+00</td>\n",
       "      <td>2.13e+00</td>\n",
       "      <td>7.72e+00</td>\n",
       "      <td>8.59e+00</td>\n",
       "    </tr>\n",
       "  </tbody>\n",
       "</table>\n",
       "</div>"
      ],
      "text/plain": [
       "       Year sin   Day sin   Day cos  p (mbar)  wd (deg)  wv (m/s)  \\\n",
       "count  4.91e+04  4.91e+04  4.91e+04  4.91e+04  4.91e+04  4.91e+04   \n",
       "mean   2.06e-16 -1.53e-17 -2.61e-17  9.87e-13 -2.51e-14  8.83e-15   \n",
       "std    1.00e+00  1.00e+00  1.00e+00  1.00e+00  1.00e+00  1.00e+00   \n",
       "min   -1.50e+00 -1.41e+00 -1.41e+00 -9.05e+00 -1.98e+00 -1.40e+00   \n",
       "25%   -9.86e-01 -1.00e+00 -1.00e+00 -6.09e-01 -6.33e-01 -7.39e-01   \n",
       "50%    7.75e-02  7.68e-05  1.02e-04  5.47e-02  2.67e-01 -2.31e-01   \n",
       "75%    9.87e-01  1.00e+00  1.00e+00  6.55e-01  6.93e-01  4.79e-01   \n",
       "max    1.35e+00  1.41e+00  1.41e+00  2.91e+00  2.13e+00  7.72e+00   \n",
       "\n",
       "       max. wv (m/s)  \n",
       "count       4.91e+04  \n",
       "mean        7.27e-15  \n",
       "std         1.00e+00  \n",
       "min        -1.54e+00  \n",
       "25%        -7.60e-01  \n",
       "50%        -2.25e-01  \n",
       "75%         5.21e-01  \n",
       "max         8.59e+00  "
      ]
     },
     "execution_count": 41,
     "metadata": {},
     "output_type": "execute_result"
    }
   ],
   "source": [
    "x_train.describe()"
   ]
  },
  {
   "cell_type": "markdown",
   "id": "59fbd13b-00eb-46aa-a788-21861ae6dcdc",
   "metadata": {},
   "source": [
    "### Splitting y"
   ]
  },
  {
   "cell_type": "code",
   "execution_count": 42,
   "id": "494a5582-4b1f-47b6-820e-ee8bb57f04c9",
   "metadata": {},
   "outputs": [],
   "source": [
    "y_train = y.iloc[:int(train_ratio/100*total_days)]\n",
    "y_val = y.iloc[int(train_ratio/100*total_days):int((train_ratio + val_ratio)/100*total_days)]\n",
    "y_test = y.iloc[int((train_ratio + val_ratio)/100*total_days):]"
   ]
  },
  {
   "cell_type": "code",
   "execution_count": 43,
   "id": "c018d84d-ebea-4b3b-8bc7-38c81a41a5a7",
   "metadata": {},
   "outputs": [
    {
     "data": {
      "text/plain": [
       "((49063,), (14018,), (7010,))"
      ]
     },
     "execution_count": 43,
     "metadata": {},
     "output_type": "execute_result"
    }
   ],
   "source": [
    "y_train.shape, y_val.shape, y_test.shape"
   ]
  },
  {
   "cell_type": "code",
   "execution_count": 44,
   "id": "a80dc628-36e9-4162-b63c-0833492c7a5f",
   "metadata": {},
   "outputs": [
    {
     "data": {
      "text/plain": [
       "pandas.core.series.Series"
      ]
     },
     "execution_count": 44,
     "metadata": {},
     "output_type": "execute_result"
    }
   ],
   "source": [
    "type(y_train)"
   ]
  },
  {
   "cell_type": "code",
   "execution_count": 45,
   "id": "f2831b7c-72a8-4ded-96dd-b15a285e223f",
   "metadata": {},
   "outputs": [
    {
     "data": {
      "text/plain": [
       "5         -8.05\n",
       "11        -8.88\n",
       "17        -8.81\n",
       "23        -9.05\n",
       "29        -9.63\n",
       "          ...  \n",
       "294353    16.94\n",
       "294359    16.72\n",
       "294365    15.52\n",
       "294371    15.26\n",
       "294377    14.76\n",
       "Name: T (degC), Length: 49063, dtype: float64"
      ]
     },
     "execution_count": 45,
     "metadata": {},
     "output_type": "execute_result"
    }
   ],
   "source": [
    "y_train"
   ]
  },
  {
   "cell_type": "markdown",
   "id": "e95a5819-f382-4b64-9d6d-2b4c5f7ca2a6",
   "metadata": {},
   "source": [
    "### Saving output files"
   ]
  },
  {
   "cell_type": "code",
   "execution_count": 46,
   "id": "e820b4df-cf51-42f0-8048-67c7b46e7e5c",
   "metadata": {},
   "outputs": [
    {
     "data": {
      "text/html": [
       "<div>\n",
       "<style scoped>\n",
       "    .dataframe tbody tr th:only-of-type {\n",
       "        vertical-align: middle;\n",
       "    }\n",
       "\n",
       "    .dataframe tbody tr th {\n",
       "        vertical-align: top;\n",
       "    }\n",
       "\n",
       "    .dataframe thead th {\n",
       "        text-align: right;\n",
       "    }\n",
       "</style>\n",
       "<table border=\"1\" class=\"dataframe\">\n",
       "  <thead>\n",
       "    <tr style=\"text-align: right;\">\n",
       "      <th></th>\n",
       "      <th>Year sin</th>\n",
       "      <th>Day sin</th>\n",
       "      <th>Day cos</th>\n",
       "      <th>p (mbar)</th>\n",
       "      <th>wd (deg)</th>\n",
       "      <th>wv (m/s)</th>\n",
       "      <th>max. wv (m/s)</th>\n",
       "    </tr>\n",
       "  </thead>\n",
       "  <tbody>\n",
       "    <tr>\n",
       "      <th>5</th>\n",
       "      <td>-0.06</td>\n",
       "      <td>0.37</td>\n",
       "      <td>1.37</td>\n",
       "      <td>0.95</td>\n",
       "      <td>0.22</td>\n",
       "      <td>-1.27</td>\n",
       "      <td>-1.26</td>\n",
       "    </tr>\n",
       "    <tr>\n",
       "      <th>11</th>\n",
       "      <td>-0.06</td>\n",
       "      <td>0.71</td>\n",
       "      <td>1.22</td>\n",
       "      <td>0.96</td>\n",
       "      <td>0.19</td>\n",
       "      <td>-1.24</td>\n",
       "      <td>-1.26</td>\n",
       "    </tr>\n",
       "    <tr>\n",
       "      <th>17</th>\n",
       "      <td>-0.06</td>\n",
       "      <td>1.00</td>\n",
       "      <td>1.00</td>\n",
       "      <td>0.99</td>\n",
       "      <td>-0.07</td>\n",
       "      <td>-1.29</td>\n",
       "      <td>-1.26</td>\n",
       "    </tr>\n",
       "    <tr>\n",
       "      <th>23</th>\n",
       "      <td>-0.06</td>\n",
       "      <td>1.22</td>\n",
       "      <td>0.71</td>\n",
       "      <td>1.00</td>\n",
       "      <td>0.76</td>\n",
       "      <td>-1.34</td>\n",
       "      <td>-1.37</td>\n",
       "    </tr>\n",
       "    <tr>\n",
       "      <th>29</th>\n",
       "      <td>-0.06</td>\n",
       "      <td>1.37</td>\n",
       "      <td>0.37</td>\n",
       "      <td>1.06</td>\n",
       "      <td>-0.19</td>\n",
       "      <td>-1.14</td>\n",
       "      <td>-1.16</td>\n",
       "    </tr>\n",
       "  </tbody>\n",
       "</table>\n",
       "</div>"
      ],
      "text/plain": [
       "    Year sin  Day sin  Day cos  p (mbar)  wd (deg)  wv (m/s)  max. wv (m/s)\n",
       "5      -0.06     0.37     1.37      0.95      0.22     -1.27          -1.26\n",
       "11     -0.06     0.71     1.22      0.96      0.19     -1.24          -1.26\n",
       "17     -0.06     1.00     1.00      0.99     -0.07     -1.29          -1.26\n",
       "23     -0.06     1.22     0.71      1.00      0.76     -1.34          -1.37\n",
       "29     -0.06     1.37     0.37      1.06     -0.19     -1.14          -1.16"
      ]
     },
     "execution_count": 46,
     "metadata": {},
     "output_type": "execute_result"
    }
   ],
   "source": [
    "x_train.head()"
   ]
  },
  {
   "cell_type": "code",
   "execution_count": 47,
   "id": "3c7849bb-9bb8-4eee-b0ef-67a4ead1608b",
   "metadata": {},
   "outputs": [
    {
     "data": {
      "text/plain": [
       "((49063, 7), (14018, 7), (7010, 7))"
      ]
     },
     "execution_count": 47,
     "metadata": {},
     "output_type": "execute_result"
    }
   ],
   "source": [
    "x_train.shape, x_val.shape, x_test.shape"
   ]
  },
  {
   "cell_type": "code",
   "execution_count": 48,
   "id": "5f53c1b9-9c04-4945-80c0-89f0cd09c3c4",
   "metadata": {},
   "outputs": [],
   "source": [
    "x_train.to_csv(f'{path}{file_x_train}')\n",
    "x_val.to_csv(f'{path}{file_x_val}')\n",
    "x_test.to_csv(f'{path}{file_x_test}')"
   ]
  },
  {
   "cell_type": "code",
   "execution_count": 49,
   "id": "89171770-7514-4989-a581-3c858f469f5b",
   "metadata": {},
   "outputs": [
    {
     "data": {
      "text/plain": [
       "((49063,), (14018,), (7010,))"
      ]
     },
     "execution_count": 49,
     "metadata": {},
     "output_type": "execute_result"
    }
   ],
   "source": [
    "y_train.shape, y_val.shape, y_test.shape"
   ]
  },
  {
   "cell_type": "code",
   "execution_count": 50,
   "id": "90d6ca3f-6b2f-4617-8caa-da1b646640c0",
   "metadata": {},
   "outputs": [],
   "source": [
    "pd.DataFrame(y_train).to_csv(f'{path}{file_y_train}')\n",
    "pd.DataFrame(y_val).to_csv(f'{path}{file_y_val}')\n",
    "pd.DataFrame(y_test).to_csv(f'{path}{file_y_test}')"
   ]
  },
  {
   "cell_type": "code",
   "execution_count": 51,
   "id": "1bb1f81a-86ff-47cd-bf27-0d3b73fac52b",
   "metadata": {},
   "outputs": [],
   "source": [
    "# to read the data from files\n",
    "# x_train = pd.read_csv(f'{path}{file_x_train}', index_col=0)\n",
    "# x_val = pd.read_csv(f'{path}{file_x_val}', index_col=0)\n",
    "# x_test = pd.read_csv(f'{path}{file_x_test}', index_col=0)\n",
    "\n",
    "# y_train = pd.read_csv(f'{path}{file_y_train}', index_col=0).iloc[:,0]\n",
    "# y_val = pd.read_csv(f'{path}{file_y_val}', index_col=0).iloc[:,0]\n",
    "# y_test = pd.read_csv(f'{path}{file_y_test}', index_col=0).iloc[:,0]"
   ]
  },
  {
   "cell_type": "markdown",
   "id": "cccf5af2-e62b-4de8-80e4-f4d758783489",
   "metadata": {},
   "source": [
    "### Investigating y distributions"
   ]
  },
  {
   "cell_type": "code",
   "execution_count": 52,
   "id": "9afb858d-820b-4914-90cc-61b515668a6f",
   "metadata": {},
   "outputs": [
    {
     "data": {
      "text/plain": [
       "<AxesSubplot:xlabel='T (degC)', ylabel='Count'>"
      ]
     },
     "execution_count": 52,
     "metadata": {},
     "output_type": "execute_result"
    },
    {
     "data": {
      "image/png": "[encoded data removed]",
      "text/plain": [
       "<Figure size 432x288 with 1 Axes>"
      ]
     },
     "metadata": {
      "needs_background": "light"
     },
     "output_type": "display_data"
    }
   ],
   "source": [
    "sns.histplot(y_train,element=\"step\", bins=20)"
   ]
  },
  {
   "cell_type": "code",
   "execution_count": 53,
   "id": "011bbe1a-e8d0-413b-9b98-b8173d82b437",
   "metadata": {},
   "outputs": [
    {
     "data": {
      "text/plain": [
       "<AxesSubplot:xlabel='T (degC)', ylabel='Count'>"
      ]
     },
     "execution_count": 53,
     "metadata": {},
     "output_type": "execute_result"
    },
    {
     "data": {
      "image/png": "[encoded data removed]",
      "text/plain": [
       "<Figure size 432x288 with 1 Axes>"
      ]
     },
     "metadata": {
      "needs_background": "light"
     },
     "output_type": "display_data"
    }
   ],
   "source": [
    "sns.histplot(y_val,element=\"step\", bins=20)"
   ]
  },
  {
   "cell_type": "code",
   "execution_count": 54,
   "id": "c8eb4384-7fee-4069-8de3-4649889060d5",
   "metadata": {},
   "outputs": [
    {
     "data": {
      "text/plain": [
       "<AxesSubplot:xlabel='T (degC)', ylabel='Count'>"
      ]
     },
     "execution_count": 54,
     "metadata": {},
     "output_type": "execute_result"
    },
    {
     "data": {
      "image/png": "[encoded data removed]",
      "text/plain": [
       "<Figure size 432x288 with 1 Axes>"
      ]
     },
     "metadata": {
      "needs_background": "light"
     },
     "output_type": "display_data"
    }
   ],
   "source": [
    "sns.histplot(y_test,element=\"step\", bins=20)"
   ]
  }
 ],
 "metadata": {
  "kernelspec": {
   "display_name": "Python [conda env:root] *",
   "language": "python",
   "name": "conda-root-py"
  },
  "language_info": {
   "codemirror_mode": {
    "name": "ipython",
    "version": 3
   },
   "file_extension": ".py",
   "mimetype": "text/x-python",
   "name": "python",
   "nbconvert_exporter": "python",
   "pygments_lexer": "ipython3",
   "version": "3.9.7"
  }
 },
 "nbformat": 4,
 "nbformat_minor": 5
}
