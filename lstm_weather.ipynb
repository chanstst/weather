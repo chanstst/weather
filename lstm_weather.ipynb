{
 "cells": [
  {
   "cell_type": "markdown",
   "id": "ad5c8165-c47a-4ab0-9a72-19a73ff76e5d",
   "metadata": {},
   "source": [
    "# LSTM on weather data"
   ]
  },
  {
   "cell_type": "markdown",
   "id": "f7595ce1-a818-402a-ab64-09b77d8ae386",
   "metadata": {},
   "source": [
    "Adapted from https://www.tensorflow.org/tutorials/structured_data/time_series"
   ]
  },
  {
   "cell_type": "code",
   "execution_count": 1,
   "id": "3bdb7b80-7fae-48bb-96ab-08ff21badbb7",
   "metadata": {},
   "outputs": [],
   "source": [
    "import numpy as np\n",
    "import pandas as pd\n",
    "import tensorflow as tf\n",
    "import matplotlib.pyplot as plt\n",
    "from tensorflow.keras.models import Sequential\n",
    "from tensorflow.keras.layers import LSTM, Dense"
   ]
  },
  {
   "cell_type": "code",
   "execution_count": 2,
   "id": "9cfe4234-4d38-4082-be16-3b90e025cd3b",
   "metadata": {},
   "outputs": [],
   "source": [
    "import seaborn as sns"
   ]
  },
  {
   "cell_type": "code",
   "execution_count": 3,
   "id": "fe1559cc-3e27-4609-bb84-042cd23eed4e",
   "metadata": {},
   "outputs": [
    {
     "data": {
      "text/plain": [
       "[PhysicalDevice(name='/physical_device:GPU:0', device_type='GPU')]"
      ]
     },
     "execution_count": 3,
     "metadata": {},
     "output_type": "execute_result"
    }
   ],
   "source": [
    "tf.config.list_physical_devices('GPU')"
   ]
  },
  {
   "cell_type": "code",
   "execution_count": 4,
   "id": "adf88f82-d3eb-4219-9eb6-4ba6f6351154",
   "metadata": {},
   "outputs": [],
   "source": [
    "tf.random.set_seed(42)"
   ]
  },
  {
   "cell_type": "code",
   "execution_count": 5,
   "id": "5172c166-2751-49fb-8051-ca3eeef51601",
   "metadata": {},
   "outputs": [],
   "source": [
    "from scipy import stats\n",
    "import os\n",
    "import sys\n",
    "import pathlib\n",
    "\n",
    "pd.set_option(\"display.precision\", 2)"
   ]
  },
  {
   "cell_type": "code",
   "execution_count": 6,
   "id": "e48df229-8e93-4960-bef9-10359235c155",
   "metadata": {},
   "outputs": [],
   "source": [
    "from sklearn.metrics import mean_squared_error"
   ]
  },
  {
   "cell_type": "code",
   "execution_count": 7,
   "id": "705f935e-f751-42dd-9fc1-43fee376a807",
   "metadata": {},
   "outputs": [],
   "source": [
    "path = 'data/weather/'"
   ]
  },
  {
   "cell_type": "code",
   "execution_count": 8,
   "id": "57e73454-a02c-47ec-a9d7-e6d635c9b16c",
   "metadata": {},
   "outputs": [],
   "source": [
    "# data files\n",
    "file_x_train = \"x_train.csv\"\n",
    "file_x_val = \"x_val.csv\"\n",
    "file_x_test = \"x_test.csv\"\n",
    "file_y_train = \"y_train.csv\"\n",
    "file_y_val = \"y_val.csv\"\n",
    "file_y_test = \"y_test.csv\""
   ]
  },
  {
   "cell_type": "code",
   "execution_count": 9,
   "id": "1bb1f81a-86ff-47cd-bf27-0d3b73fac52b",
   "metadata": {},
   "outputs": [],
   "source": [
    "x_train = pd.read_csv(f'{path}{file_x_train}', index_col=0)\n",
    "x_val = pd.read_csv(f'{path}{file_x_val}', index_col=0)\n",
    "x_test = pd.read_csv(f'{path}{file_x_test}', index_col=0)\n",
    "\n",
    "y_train = pd.read_csv(f'{path}{file_y_train}', index_col=0).iloc[:,0]\n",
    "y_val = pd.read_csv(f'{path}{file_y_val}', index_col=0).iloc[:,0]\n",
    "y_test = pd.read_csv(f'{path}{file_y_test}', index_col=0).iloc[:,0]"
   ]
  },
  {
   "cell_type": "code",
   "execution_count": 10,
   "id": "e49679ee-4a32-4feb-80c1-32dc82c2ec3c",
   "metadata": {},
   "outputs": [
    {
     "data": {
      "text/plain": [
       "((49063, 7), (14018, 7), (7010, 7))"
      ]
     },
     "execution_count": 10,
     "metadata": {},
     "output_type": "execute_result"
    }
   ],
   "source": [
    "x_train.shape, x_val.shape, x_test.shape"
   ]
  },
  {
   "cell_type": "code",
   "execution_count": 11,
   "id": "362ba3bd-5774-4bbd-bd48-53bd29014945",
   "metadata": {},
   "outputs": [
    {
     "data": {
      "text/plain": [
       "((49063,), (14018,), (7010,))"
      ]
     },
     "execution_count": 11,
     "metadata": {},
     "output_type": "execute_result"
    }
   ],
   "source": [
    "y_train.shape, y_val.shape, y_test.shape"
   ]
  },
  {
   "cell_type": "markdown",
   "id": "dee53279-9d24-43eb-b418-5440330d704b",
   "metadata": {},
   "source": [
    "### TF Timeseries Dataset for LSTM inputs"
   ]
  },
  {
   "cell_type": "code",
   "execution_count": 12,
   "id": "d13317d6-88ee-4dde-bee0-fab7f9e17d6b",
   "metadata": {},
   "outputs": [],
   "source": [
    "# adding label at the end\n",
    "output_train = x_train.copy()\n",
    "output_val = x_val.copy()\n",
    "output_test = x_test.copy()\n",
    "\n",
    "output_train[\"label\"] = y_train\n",
    "output_val[\"label\"] = y_val\n",
    "output_test[\"label\"] = y_test"
   ]
  },
  {
   "cell_type": "code",
   "execution_count": 13,
   "id": "08ba4a1f-2fc1-4fe7-9346-864e2cabfdc4",
   "metadata": {},
   "outputs": [
    {
     "data": {
      "text/html": [
       "<div>\n",
       "<style scoped>\n",
       "    .dataframe tbody tr th:only-of-type {\n",
       "        vertical-align: middle;\n",
       "    }\n",
       "\n",
       "    .dataframe tbody tr th {\n",
       "        vertical-align: top;\n",
       "    }\n",
       "\n",
       "    .dataframe thead th {\n",
       "        text-align: right;\n",
       "    }\n",
       "</style>\n",
       "<table border=\"1\" class=\"dataframe\">\n",
       "  <thead>\n",
       "    <tr style=\"text-align: right;\">\n",
       "      <th></th>\n",
       "      <th>Year sin</th>\n",
       "      <th>Day sin</th>\n",
       "      <th>Day cos</th>\n",
       "      <th>p (mbar)</th>\n",
       "      <th>wd (deg)</th>\n",
       "      <th>wv (m/s)</th>\n",
       "      <th>max. wv (m/s)</th>\n",
       "      <th>label</th>\n",
       "    </tr>\n",
       "  </thead>\n",
       "  <tbody>\n",
       "    <tr>\n",
       "      <th>5</th>\n",
       "      <td>-0.06</td>\n",
       "      <td>0.37</td>\n",
       "      <td>1.37e+00</td>\n",
       "      <td>0.95</td>\n",
       "      <td>0.22</td>\n",
       "      <td>-1.27</td>\n",
       "      <td>-1.26</td>\n",
       "      <td>-8.05</td>\n",
       "    </tr>\n",
       "    <tr>\n",
       "      <th>11</th>\n",
       "      <td>-0.06</td>\n",
       "      <td>0.71</td>\n",
       "      <td>1.22e+00</td>\n",
       "      <td>0.96</td>\n",
       "      <td>0.19</td>\n",
       "      <td>-1.24</td>\n",
       "      <td>-1.26</td>\n",
       "      <td>-8.88</td>\n",
       "    </tr>\n",
       "    <tr>\n",
       "      <th>17</th>\n",
       "      <td>-0.06</td>\n",
       "      <td>1.00</td>\n",
       "      <td>1.00e+00</td>\n",
       "      <td>0.99</td>\n",
       "      <td>-0.07</td>\n",
       "      <td>-1.29</td>\n",
       "      <td>-1.26</td>\n",
       "      <td>-8.81</td>\n",
       "    </tr>\n",
       "    <tr>\n",
       "      <th>23</th>\n",
       "      <td>-0.06</td>\n",
       "      <td>1.22</td>\n",
       "      <td>7.07e-01</td>\n",
       "      <td>1.00</td>\n",
       "      <td>0.76</td>\n",
       "      <td>-1.34</td>\n",
       "      <td>-1.37</td>\n",
       "      <td>-9.05</td>\n",
       "    </tr>\n",
       "    <tr>\n",
       "      <th>29</th>\n",
       "      <td>-0.06</td>\n",
       "      <td>1.37</td>\n",
       "      <td>3.66e-01</td>\n",
       "      <td>1.06</td>\n",
       "      <td>-0.19</td>\n",
       "      <td>-1.14</td>\n",
       "      <td>-1.16</td>\n",
       "      <td>-9.63</td>\n",
       "    </tr>\n",
       "    <tr>\n",
       "      <th>35</th>\n",
       "      <td>-0.06</td>\n",
       "      <td>1.41</td>\n",
       "      <td>1.02e-04</td>\n",
       "      <td>1.09</td>\n",
       "      <td>-0.31</td>\n",
       "      <td>-1.37</td>\n",
       "      <td>-1.32</td>\n",
       "      <td>-9.67</td>\n",
       "    </tr>\n",
       "    <tr>\n",
       "      <th>41</th>\n",
       "      <td>-0.05</td>\n",
       "      <td>1.37</td>\n",
       "      <td>-3.66e-01</td>\n",
       "      <td>1.17</td>\n",
       "      <td>2.00</td>\n",
       "      <td>-0.05</td>\n",
       "      <td>-0.29</td>\n",
       "      <td>-9.17</td>\n",
       "    </tr>\n",
       "    <tr>\n",
       "      <th>47</th>\n",
       "      <td>-0.05</td>\n",
       "      <td>1.22</td>\n",
       "      <td>-7.07e-01</td>\n",
       "      <td>1.27</td>\n",
       "      <td>0.46</td>\n",
       "      <td>-0.93</td>\n",
       "      <td>-1.00</td>\n",
       "      <td>-8.10</td>\n",
       "    </tr>\n",
       "    <tr>\n",
       "      <th>53</th>\n",
       "      <td>-0.05</td>\n",
       "      <td>1.00</td>\n",
       "      <td>-1.00e+00</td>\n",
       "      <td>1.33</td>\n",
       "      <td>0.33</td>\n",
       "      <td>-1.18</td>\n",
       "      <td>-1.26</td>\n",
       "      <td>-7.66</td>\n",
       "    </tr>\n",
       "    <tr>\n",
       "      <th>59</th>\n",
       "      <td>-0.05</td>\n",
       "      <td>0.71</td>\n",
       "      <td>-1.22e+00</td>\n",
       "      <td>1.40</td>\n",
       "      <td>1.36</td>\n",
       "      <td>-0.46</td>\n",
       "      <td>-0.24</td>\n",
       "      <td>-7.04</td>\n",
       "    </tr>\n",
       "  </tbody>\n",
       "</table>\n",
       "</div>"
      ],
      "text/plain": [
       "    Year sin  Day sin   Day cos  p (mbar)  wd (deg)  wv (m/s)  max. wv (m/s)  \\\n",
       "5      -0.06     0.37  1.37e+00      0.95      0.22     -1.27          -1.26   \n",
       "11     -0.06     0.71  1.22e+00      0.96      0.19     -1.24          -1.26   \n",
       "17     -0.06     1.00  1.00e+00      0.99     -0.07     -1.29          -1.26   \n",
       "23     -0.06     1.22  7.07e-01      1.00      0.76     -1.34          -1.37   \n",
       "29     -0.06     1.37  3.66e-01      1.06     -0.19     -1.14          -1.16   \n",
       "35     -0.06     1.41  1.02e-04      1.09     -0.31     -1.37          -1.32   \n",
       "41     -0.05     1.37 -3.66e-01      1.17      2.00     -0.05          -0.29   \n",
       "47     -0.05     1.22 -7.07e-01      1.27      0.46     -0.93          -1.00   \n",
       "53     -0.05     1.00 -1.00e+00      1.33      0.33     -1.18          -1.26   \n",
       "59     -0.05     0.71 -1.22e+00      1.40      1.36     -0.46          -0.24   \n",
       "\n",
       "    label  \n",
       "5   -8.05  \n",
       "11  -8.88  \n",
       "17  -8.81  \n",
       "23  -9.05  \n",
       "29  -9.63  \n",
       "35  -9.67  \n",
       "41  -9.17  \n",
       "47  -8.10  \n",
       "53  -7.66  \n",
       "59  -7.04  "
      ]
     },
     "execution_count": 13,
     "metadata": {},
     "output_type": "execute_result"
    }
   ],
   "source": [
    "output_train.head(10)"
   ]
  },
  {
   "cell_type": "code",
   "execution_count": 14,
   "id": "f4f29e04-2c3a-44b2-a8b1-6d129816ab49",
   "metadata": {},
   "outputs": [],
   "source": [
    "# LSTM parameters\n",
    "window_size = 7\n",
    "n_features = x_train.shape[1]"
   ]
  },
  {
   "cell_type": "code",
   "execution_count": 15,
   "id": "1055e8bb-c1e8-490a-bbf5-0fac3038b15e",
   "metadata": {},
   "outputs": [],
   "source": [
    "# train\n",
    "data_train = np.array(output_train.iloc[:,:-1], dtype=np.float32)\n",
    "labels_train = np.array(output_train.iloc[:,-1:], dtype=np.float32)\n",
    "# no shift in labels\n",
    "ds_train = tf.keras.utils.timeseries_dataset_from_array(\n",
    "    data = data_train,\n",
    "    targets = labels_train,\n",
    "    sequence_length = window_size,\n",
    "    sequence_stride = 1,\n",
    "    shuffle = False,\n",
    "    batch_size = 32)\n",
    "\n",
    "# val\n",
    "data_val = np.array(output_val.iloc[:,:-1], dtype=np.float32)\n",
    "labels_val = np.array(output_val.iloc[:,-1:], dtype=np.float32)\n",
    "# no shift in labels\n",
    "ds_val = tf.keras.utils.timeseries_dataset_from_array(\n",
    "    data=data_val,\n",
    "    targets=labels_val,\n",
    "    sequence_length = window_size,\n",
    "    sequence_stride=1,\n",
    "    shuffle=False,\n",
    "    batch_size= 32)\n",
    "\n",
    "#test\n",
    "data_test = np.array(output_test.iloc[:,:-1], dtype=np.float32)\n",
    "labels_test = np.array(output_test.iloc[:,-1:], dtype=np.float32)\n",
    "# no shift in labels\n",
    "ds_test = tf.keras.utils.timeseries_dataset_from_array(\n",
    "    data=data_test,\n",
    "    targets=labels_test,\n",
    "    sequence_length = window_size,\n",
    "    sequence_stride=1,\n",
    "    shuffle=False,\n",
    "    batch_size= 32)"
   ]
  },
  {
   "cell_type": "code",
   "execution_count": 16,
   "id": "23822a07-d1e4-4baa-9c5a-ace01d173649",
   "metadata": {},
   "outputs": [],
   "source": [
    "batch_inputs = {}\n",
    "batch_labels = {}"
   ]
  },
  {
   "cell_type": "code",
   "execution_count": 17,
   "id": "3ad64f46-4fd1-49ff-b465-877d71a7ad12",
   "metadata": {},
   "outputs": [],
   "source": [
    "i = 0\n",
    "for batch in ds_train:\n",
    "    batch_inputs[i], batch_labels[i] = batch\n",
    "    i = i+1"
   ]
  },
  {
   "cell_type": "markdown",
   "id": "501f1c62-9166-412b-a985-80f078914207",
   "metadata": {},
   "source": [
    "### Checking if the sequence is right"
   ]
  },
  {
   "cell_type": "code",
   "execution_count": 18,
   "id": "a3cc1b26-2df4-4538-95dd-b5445abd953f",
   "metadata": {},
   "outputs": [
    {
     "data": {
      "text/plain": [
       "<tf.Tensor: shape=(7,), dtype=float32, numpy=\n",
       "array([-0.06105236,  0.36611056,  1.3660688 ,  0.9453076 ,  0.22183082,\n",
       "       -1.2668532 , -1.2638713 ], dtype=float32)>"
      ]
     },
     "execution_count": 18,
     "metadata": {},
     "output_type": "execute_result"
    }
   ],
   "source": [
    "batch_inputs[0][0][0]"
   ]
  },
  {
   "cell_type": "code",
   "execution_count": 19,
   "id": "b2168b01-8938-4463-b90d-3732eba40ce7",
   "metadata": {},
   "outputs": [
    {
     "data": {
      "text/plain": [
       "array([-0.06105236,  0.36611056,  1.3660688 ,  0.9453076 ,  0.22183082,\n",
       "       -1.2668532 , -1.2638713 ], dtype=float32)"
      ]
     },
     "execution_count": 19,
     "metadata": {},
     "output_type": "execute_result"
    }
   ],
   "source": [
    "data_train[0,:]"
   ]
  },
  {
   "cell_type": "code",
   "execution_count": 20,
   "id": "824274fc-c345-4bf1-ab18-e5e041d59450",
   "metadata": {},
   "outputs": [
    {
     "data": {
      "text/plain": [
       "<tf.Tensor: shape=(7, 1), dtype=float32, numpy=\n",
       "array([[-8.05],\n",
       "       [-8.88],\n",
       "       [-8.81],\n",
       "       [-9.05],\n",
       "       [-9.63],\n",
       "       [-9.67],\n",
       "       [-9.17]], dtype=float32)>"
      ]
     },
     "execution_count": 20,
     "metadata": {},
     "output_type": "execute_result"
    }
   ],
   "source": [
    "batch_labels[0][:7]"
   ]
  },
  {
   "cell_type": "code",
   "execution_count": 21,
   "id": "39a51275-c819-4f92-8f2c-1e4a12e5ba9d",
   "metadata": {},
   "outputs": [
    {
     "data": {
      "text/plain": [
       "array([[-8.05],\n",
       "       [-8.88],\n",
       "       [-8.81],\n",
       "       [-9.05],\n",
       "       [-9.63],\n",
       "       [-9.67],\n",
       "       [-9.17]], dtype=float32)"
      ]
     },
     "execution_count": 21,
     "metadata": {},
     "output_type": "execute_result"
    }
   ],
   "source": [
    "labels_train[:7]"
   ]
  },
  {
   "cell_type": "markdown",
   "id": "5167b7c1-9a6d-4d5d-9b6b-109df6a8f1fd",
   "metadata": {},
   "source": [
    "### Model Fitting"
   ]
  },
  {
   "cell_type": "code",
   "execution_count": 22,
   "id": "ab7c2acc-3a64-4f26-85b6-0b7f6c9a246f",
   "metadata": {},
   "outputs": [
    {
     "name": "stdout",
     "output_type": "stream",
     "text": [
      "Epoch 1/100\n",
      "1534/1534 [==============================] - 11s 5ms/step - loss: 62.6218 - mean_absolute_error: 6.3834 - val_loss: 64.3978 - val_mean_absolute_error: 6.6311\n",
      "Epoch 2/100\n",
      "1534/1534 [==============================] - 7s 5ms/step - loss: 75.6579 - mean_absolute_error: 7.1767 - val_loss: 69.0684 - val_mean_absolute_error: 7.0003\n",
      "Epoch 3/100\n",
      "1534/1534 [==============================] - 7s 5ms/step - loss: 71.8895 - mean_absolute_error: 7.0229 - val_loss: 59.4322 - val_mean_absolute_error: 6.3970\n",
      "Epoch 4/100\n",
      "1534/1534 [==============================] - 7s 5ms/step - loss: 68.5303 - mean_absolute_error: 6.8555 - val_loss: 57.3441 - val_mean_absolute_error: 6.2211\n",
      "Epoch 5/100\n",
      "1534/1534 [==============================] - 7s 5ms/step - loss: 67.2749 - mean_absolute_error: 6.7714 - val_loss: 54.4764 - val_mean_absolute_error: 6.0093\n",
      "Epoch 6/100\n",
      "1534/1534 [==============================] - 7s 5ms/step - loss: 64.2383 - mean_absolute_error: 6.5997 - val_loss: 54.5529 - val_mean_absolute_error: 6.0004\n",
      "Epoch 7/100\n",
      "1534/1534 [==============================] - 7s 5ms/step - loss: 62.6978 - mean_absolute_error: 6.5188 - val_loss: 53.4192 - val_mean_absolute_error: 5.9164\n",
      "Epoch 8/100\n",
      "1534/1534 [==============================] - 7s 5ms/step - loss: 61.0368 - mean_absolute_error: 6.4063 - val_loss: 51.9086 - val_mean_absolute_error: 5.8109\n",
      "Epoch 9/100\n",
      "1534/1534 [==============================] - 7s 5ms/step - loss: 58.9035 - mean_absolute_error: 6.2628 - val_loss: 50.9509 - val_mean_absolute_error: 5.7286\n",
      "Epoch 10/100\n",
      "1534/1534 [==============================] - 8s 5ms/step - loss: 57.2417 - mean_absolute_error: 6.1606 - val_loss: 50.0757 - val_mean_absolute_error: 5.6655\n",
      "Epoch 11/100\n",
      "1534/1534 [==============================] - 8s 5ms/step - loss: 55.6238 - mean_absolute_error: 6.0536 - val_loss: 49.2406 - val_mean_absolute_error: 5.6018\n",
      "Epoch 12/100\n",
      "1534/1534 [==============================] - 8s 5ms/step - loss: 54.2247 - mean_absolute_error: 5.9593 - val_loss: 48.5207 - val_mean_absolute_error: 5.5412\n",
      "Epoch 13/100\n",
      "1534/1534 [==============================] - 8s 5ms/step - loss: 53.1121 - mean_absolute_error: 5.8804 - val_loss: 47.9486 - val_mean_absolute_error: 5.4972\n",
      "Epoch 14/100\n",
      "1534/1534 [==============================] - 8s 5ms/step - loss: 52.0893 - mean_absolute_error: 5.8070 - val_loss: 47.4831 - val_mean_absolute_error: 5.4584\n",
      "Epoch 15/100\n",
      "1534/1534 [==============================] - 8s 6ms/step - loss: 51.0294 - mean_absolute_error: 5.7339 - val_loss: 46.9271 - val_mean_absolute_error: 5.4162\n",
      "Epoch 16/100\n",
      "1534/1534 [==============================] - 7s 5ms/step - loss: 50.0749 - mean_absolute_error: 5.6632 - val_loss: 46.4623 - val_mean_absolute_error: 5.3783\n",
      "Epoch 17/100\n",
      "1534/1534 [==============================] - 8s 5ms/step - loss: 49.2044 - mean_absolute_error: 5.6007 - val_loss: 46.0682 - val_mean_absolute_error: 5.3469\n",
      "Epoch 18/100\n",
      "1534/1534 [==============================] - 8s 5ms/step - loss: 48.4774 - mean_absolute_error: 5.5454 - val_loss: 45.6705 - val_mean_absolute_error: 5.3122\n",
      "Epoch 19/100\n",
      "1534/1534 [==============================] - 8s 5ms/step - loss: 47.7173 - mean_absolute_error: 5.4886 - val_loss: 45.3573 - val_mean_absolute_error: 5.2872\n",
      "Epoch 20/100\n",
      "1534/1534 [==============================] - 8s 5ms/step - loss: 47.0598 - mean_absolute_error: 5.4385 - val_loss: 45.0000 - val_mean_absolute_error: 5.2579\n",
      "Epoch 21/100\n",
      "1534/1534 [==============================] - 8s 5ms/step - loss: 46.3816 - mean_absolute_error: 5.3870 - val_loss: 44.6300 - val_mean_absolute_error: 5.2296\n",
      "Epoch 22/100\n",
      "1534/1534 [==============================] - 8s 5ms/step - loss: 45.7468 - mean_absolute_error: 5.3414 - val_loss: 44.2137 - val_mean_absolute_error: 5.1990\n",
      "Epoch 23/100\n",
      "1534/1534 [==============================] - 8s 5ms/step - loss: 45.1583 - mean_absolute_error: 5.2978 - val_loss: 43.9484 - val_mean_absolute_error: 5.1796\n",
      "Epoch 24/100\n",
      "1534/1534 [==============================] - 7s 5ms/step - loss: 44.4695 - mean_absolute_error: 5.2476 - val_loss: 43.7126 - val_mean_absolute_error: 5.1633\n",
      "Epoch 25/100\n",
      "1534/1534 [==============================] - 8s 5ms/step - loss: 43.9154 - mean_absolute_error: 5.2070 - val_loss: 43.3730 - val_mean_absolute_error: 5.1403\n",
      "Epoch 26/100\n",
      "1534/1534 [==============================] - 8s 5ms/step - loss: 43.3011 - mean_absolute_error: 5.1631 - val_loss: 43.2033 - val_mean_absolute_error: 5.1258\n",
      "Epoch 27/100\n",
      "1534/1534 [==============================] - 8s 5ms/step - loss: 42.7255 - mean_absolute_error: 5.1207 - val_loss: 42.8578 - val_mean_absolute_error: 5.1042\n",
      "Epoch 28/100\n",
      "1534/1534 [==============================] - 8s 5ms/step - loss: 42.1235 - mean_absolute_error: 5.0773 - val_loss: 42.6934 - val_mean_absolute_error: 5.0908\n",
      "Epoch 29/100\n",
      "1534/1534 [==============================] - 8s 5ms/step - loss: 41.6439 - mean_absolute_error: 5.0413 - val_loss: 42.4679 - val_mean_absolute_error: 5.0761\n",
      "Epoch 30/100\n",
      "1534/1534 [==============================] - 8s 5ms/step - loss: 41.1763 - mean_absolute_error: 5.0065 - val_loss: 42.1595 - val_mean_absolute_error: 5.0520\n",
      "Epoch 31/100\n",
      "1534/1534 [==============================] - 8s 5ms/step - loss: 40.6022 - mean_absolute_error: 4.9669 - val_loss: 41.9815 - val_mean_absolute_error: 5.0390\n",
      "Epoch 32/100\n",
      "1534/1534 [==============================] - 8s 5ms/step - loss: 40.1268 - mean_absolute_error: 4.9339 - val_loss: 41.8787 - val_mean_absolute_error: 5.0334\n",
      "Epoch 33/100\n",
      "1534/1534 [==============================] - 8s 5ms/step - loss: 39.6792 - mean_absolute_error: 4.9013 - val_loss: 41.7724 - val_mean_absolute_error: 5.0241\n",
      "Epoch 34/100\n",
      "1534/1534 [==============================] - 8s 5ms/step - loss: 39.2518 - mean_absolute_error: 4.8697 - val_loss: 41.7582 - val_mean_absolute_error: 5.0202\n",
      "Epoch 35/100\n",
      "1534/1534 [==============================] - 8s 5ms/step - loss: 38.8879 - mean_absolute_error: 4.8455 - val_loss: 41.7512 - val_mean_absolute_error: 5.0167\n",
      "Epoch 36/100\n",
      "1534/1534 [==============================] - 8s 5ms/step - loss: 38.4768 - mean_absolute_error: 4.8126 - val_loss: 41.7121 - val_mean_absolute_error: 5.0138\n",
      "Epoch 37/100\n",
      "1534/1534 [==============================] - 8s 5ms/step - loss: 37.9999 - mean_absolute_error: 4.7803 - val_loss: 41.6273 - val_mean_absolute_error: 5.0076\n",
      "Epoch 38/100\n",
      "1534/1534 [==============================] - 8s 5ms/step - loss: 37.6352 - mean_absolute_error: 4.7540 - val_loss: 41.5504 - val_mean_absolute_error: 5.0033\n",
      "Epoch 39/100\n",
      "1534/1534 [==============================] - 8s 5ms/step - loss: 37.3445 - mean_absolute_error: 4.7323 - val_loss: 41.6036 - val_mean_absolute_error: 4.9995\n",
      "Epoch 40/100\n",
      "1534/1534 [==============================] - 8s 5ms/step - loss: 36.9616 - mean_absolute_error: 4.7049 - val_loss: 41.4840 - val_mean_absolute_error: 4.9925\n",
      "Epoch 41/100\n",
      "1534/1534 [==============================] - 8s 5ms/step - loss: 36.5943 - mean_absolute_error: 4.6786 - val_loss: 41.4852 - val_mean_absolute_error: 4.9912\n",
      "Epoch 42/100\n",
      "1534/1534 [==============================] - 8s 5ms/step - loss: 36.2316 - mean_absolute_error: 4.6522 - val_loss: 41.4383 - val_mean_absolute_error: 4.9885\n",
      "Epoch 43/100\n",
      "1534/1534 [==============================] - 8s 5ms/step - loss: 35.8181 - mean_absolute_error: 4.6240 - val_loss: 41.4727 - val_mean_absolute_error: 4.9867\n",
      "Epoch 44/100\n",
      "1534/1534 [==============================] - 8s 5ms/step - loss: 35.4778 - mean_absolute_error: 4.5998 - val_loss: 41.6003 - val_mean_absolute_error: 4.9948\n",
      "Epoch 45/100\n",
      "1534/1534 [==============================] - 8s 5ms/step - loss: 35.1838 - mean_absolute_error: 4.5785 - val_loss: 41.4741 - val_mean_absolute_error: 4.9828\n",
      "Epoch 46/100\n",
      "1534/1534 [==============================] - 8s 5ms/step - loss: 34.8364 - mean_absolute_error: 4.5522 - val_loss: 41.4691 - val_mean_absolute_error: 4.9813\n",
      "Epoch 47/100\n",
      "1534/1534 [==============================] - 8s 5ms/step - loss: 34.4797 - mean_absolute_error: 4.5260 - val_loss: 41.2762 - val_mean_absolute_error: 4.9733\n",
      "Epoch 48/100\n",
      "1534/1534 [==============================] - 8s 5ms/step - loss: 34.2301 - mean_absolute_error: 4.5074 - val_loss: 41.3475 - val_mean_absolute_error: 4.9684\n",
      "Epoch 49/100\n",
      "1534/1534 [==============================] - 8s 5ms/step - loss: 33.8339 - mean_absolute_error: 4.4780 - val_loss: 41.2761 - val_mean_absolute_error: 4.9635\n",
      "Epoch 50/100\n",
      "1534/1534 [==============================] - 8s 5ms/step - loss: 33.6709 - mean_absolute_error: 4.4660 - val_loss: 41.1861 - val_mean_absolute_error: 4.9563\n",
      "Epoch 51/100\n",
      "1534/1534 [==============================] - 9s 6ms/step - loss: 33.2751 - mean_absolute_error: 4.4372 - val_loss: 41.1198 - val_mean_absolute_error: 4.9525\n",
      "Epoch 52/100\n",
      "1534/1534 [==============================] - 8s 5ms/step - loss: 32.9212 - mean_absolute_error: 4.4114 - val_loss: 41.0845 - val_mean_absolute_error: 4.9474\n",
      "Epoch 53/100\n",
      "1534/1534 [==============================] - 8s 5ms/step - loss: 32.6841 - mean_absolute_error: 4.3929 - val_loss: 41.0390 - val_mean_absolute_error: 4.9435\n",
      "Epoch 54/100\n",
      "1534/1534 [==============================] - 8s 5ms/step - loss: 32.4220 - mean_absolute_error: 4.3751 - val_loss: 40.8945 - val_mean_absolute_error: 4.9356\n",
      "Epoch 55/100\n",
      "1534/1534 [==============================] - 8s 5ms/step - loss: 32.1049 - mean_absolute_error: 4.3519 - val_loss: 40.9114 - val_mean_absolute_error: 4.9359\n",
      "Epoch 56/100\n",
      "1534/1534 [==============================] - 8s 5ms/step - loss: 31.8373 - mean_absolute_error: 4.3335 - val_loss: 41.1911 - val_mean_absolute_error: 4.9488\n",
      "Epoch 57/100\n",
      "1534/1534 [==============================] - 8s 5ms/step - loss: 31.4644 - mean_absolute_error: 4.3030 - val_loss: 41.2183 - val_mean_absolute_error: 4.9470\n",
      "Epoch 58/100\n",
      "1534/1534 [==============================] - 8s 5ms/step - loss: 31.2015 - mean_absolute_error: 4.2844 - val_loss: 41.0763 - val_mean_absolute_error: 4.9402\n",
      "Epoch 59/100\n",
      "1534/1534 [==============================] - 7s 5ms/step - loss: 31.2003 - mean_absolute_error: 4.2825 - val_loss: 40.9918 - val_mean_absolute_error: 4.9274\n",
      "Epoch 60/100\n",
      "1534/1534 [==============================] - 8s 5ms/step - loss: 30.6921 - mean_absolute_error: 4.2461 - val_loss: 41.0787 - val_mean_absolute_error: 4.9272\n",
      "Epoch 61/100\n",
      "1534/1534 [==============================] - 8s 5ms/step - loss: 30.5110 - mean_absolute_error: 4.2307 - val_loss: 41.2217 - val_mean_absolute_error: 4.9396\n",
      "Epoch 62/100\n",
      "1534/1534 [==============================] - 8s 5ms/step - loss: 30.1000 - mean_absolute_error: 4.2021 - val_loss: 41.3911 - val_mean_absolute_error: 4.9424\n",
      "219/219 [==============================] - 1s 2ms/step - loss: 35.1330 - mean_absolute_error: 4.7044\n"
     ]
    }
   ],
   "source": [
    "# model fitting\n",
    "model = Sequential()\n",
    "model.add(LSTM(64, input_shape=(total_window_size, n_features)))\n",
    "model.add(Dense(1))\n",
    "\n",
    "early_stopping = tf.keras.callbacks.EarlyStopping(monitor='val_loss',\n",
    "                                                    patience=8,\n",
    "                                                    mode='min')\n",
    "\n",
    "model.compile(loss=tf.keras.losses.MeanSquaredError(),\n",
    "                optimizer=tf.keras.optimizers.Adam(),\n",
    "                metrics=[tf.keras.metrics.MeanAbsoluteError()])\n",
    "\n",
    "num_epochs = 100\n",
    "model.fit(ds_train, epochs=num_epochs, validation_data=ds_val, callbacks=[early_stopping])"
   ]
  },
  {
   "cell_type": "code",
   "execution_count": null,
   "id": "20cd818f-b290-4a09-bb06-6bfe576b3550",
   "metadata": {},
   "outputs": [],
   "source": [
    "pred = model.predict(ds_test)"
   ]
  },
  {
   "cell_type": "code",
   "execution_count": 23,
   "id": "79a11ca3-21e9-4b88-bdee-f51b2701df63",
   "metadata": {},
   "outputs": [],
   "source": [
    "# Putting labels in a numpy array\n",
    "all_labels = []\n",
    "for batch in ds_test:\n",
    "    inputs, labels = batch\n",
    "    all_labels.append(labels)\n",
    "\n",
    "all_labels = tf.concat(all_labels, axis=0).numpy()"
   ]
  },
  {
   "cell_type": "code",
   "execution_count": 25,
   "id": "43d69196-01b1-486c-ad97-a1971d09a089",
   "metadata": {},
   "outputs": [],
   "source": [
    "compare = pd.DataFrame(data=all_labels, columns=[\"labels\"])\n",
    "compare[\"predict\"] = pred"
   ]
  },
  {
   "cell_type": "code",
   "execution_count": 40,
   "id": "8002d071-0204-4625-b000-665d4ac5f97b",
   "metadata": {},
   "outputs": [
    {
     "data": {
      "text/html": [
       "<div>\n",
       "<style scoped>\n",
       "    .dataframe tbody tr th:only-of-type {\n",
       "        vertical-align: middle;\n",
       "    }\n",
       "\n",
       "    .dataframe tbody tr th {\n",
       "        vertical-align: top;\n",
       "    }\n",
       "\n",
       "    .dataframe thead th {\n",
       "        text-align: right;\n",
       "    }\n",
       "</style>\n",
       "<table border=\"1\" class=\"dataframe\">\n",
       "  <thead>\n",
       "    <tr style=\"text-align: right;\">\n",
       "      <th></th>\n",
       "      <th>labels</th>\n",
       "      <th>predict</th>\n",
       "    </tr>\n",
       "  </thead>\n",
       "  <tbody>\n",
       "    <tr>\n",
       "      <th>6994</th>\n",
       "      <td>-6.84</td>\n",
       "      <td>-4.39</td>\n",
       "    </tr>\n",
       "    <tr>\n",
       "      <th>6995</th>\n",
       "      <td>-6.31</td>\n",
       "      <td>-3.65</td>\n",
       "    </tr>\n",
       "    <tr>\n",
       "      <th>6996</th>\n",
       "      <td>-5.02</td>\n",
       "      <td>-2.98</td>\n",
       "    </tr>\n",
       "    <tr>\n",
       "      <th>6997</th>\n",
       "      <td>-3.31</td>\n",
       "      <td>-1.67</td>\n",
       "    </tr>\n",
       "    <tr>\n",
       "      <th>6998</th>\n",
       "      <td>-0.71</td>\n",
       "      <td>1.88</td>\n",
       "    </tr>\n",
       "    <tr>\n",
       "      <th>6999</th>\n",
       "      <td>1.97</td>\n",
       "      <td>3.44</td>\n",
       "    </tr>\n",
       "    <tr>\n",
       "      <th>7000</th>\n",
       "      <td>4.15</td>\n",
       "      <td>3.95</td>\n",
       "    </tr>\n",
       "    <tr>\n",
       "      <th>7001</th>\n",
       "      <td>4.97</td>\n",
       "      <td>3.45</td>\n",
       "    </tr>\n",
       "    <tr>\n",
       "      <th>7002</th>\n",
       "      <td>2.44</td>\n",
       "      <td>5.08</td>\n",
       "    </tr>\n",
       "    <tr>\n",
       "      <th>7003</th>\n",
       "      <td>1.29</td>\n",
       "      <td>4.57</td>\n",
       "    </tr>\n",
       "  </tbody>\n",
       "</table>\n",
       "</div>"
      ],
      "text/plain": [
       "      labels  predict\n",
       "6994   -6.84    -4.39\n",
       "6995   -6.31    -3.65\n",
       "6996   -5.02    -2.98\n",
       "6997   -3.31    -1.67\n",
       "6998   -0.71     1.88\n",
       "6999    1.97     3.44\n",
       "7000    4.15     3.95\n",
       "7001    4.97     3.45\n",
       "7002    2.44     5.08\n",
       "7003    1.29     4.57"
      ]
     },
     "execution_count": 40,
     "metadata": {},
     "output_type": "execute_result"
    }
   ],
   "source": [
    "compare.iloc[-10:]"
   ]
  },
  {
   "cell_type": "code",
   "execution_count": 27,
   "id": "9c082ec3-934e-4f34-a896-ee151e95a8e4",
   "metadata": {},
   "outputs": [
    {
     "data": {
      "image/png": "[encoded data removed]",
      "text/plain": [
       "<Figure size 432x288 with 1 Axes>"
      ]
     },
     "metadata": {
      "needs_background": "light"
     },
     "output_type": "display_data"
    }
   ],
   "source": [
    "plt.scatter(all_labels, pred)\n",
    "plt.xlabel(\"test\")\n",
    "plt.ylabel(\"pred\")\n",
    "plt.show()"
   ]
  },
  {
   "cell_type": "code",
   "execution_count": 28,
   "id": "0c038314-aa2b-42cd-b9e5-7fa9879a05b1",
   "metadata": {},
   "outputs": [],
   "source": [
    "def print_stats(y, pred):\n",
    "    \n",
    "    rmse = np.sqrt(mean_squared_error(y, pred))\n",
    "    pearson_coef, p_value = stats.pearsonr(y, pred)\n",
    "    # na_count = y.isna().astype(int).sum() + pd.Series(pred).isna().astype(int).sum()\n",
    "    \n",
    "    return rmse, pearson_coef, p_value"
   ]
  },
  {
   "cell_type": "code",
   "execution_count": 32,
   "id": "306adba3-a120-4a63-bc7f-0a4e85439fca",
   "metadata": {},
   "outputs": [],
   "source": [
    "pred_train = model.predict(ds_train)\n",
    "pred_val = model.predict(ds_val)"
   ]
  },
  {
   "cell_type": "code",
   "execution_count": 33,
   "id": "aa24e141-4eed-4002-8d02-221e96e397a0",
   "metadata": {},
   "outputs": [],
   "source": [
    "all_labels_train = []\n",
    "for batch in ds_train:\n",
    "    inputs, labels = batch\n",
    "    all_labels_train.append(labels)\n",
    "\n",
    "all_labels_train = tf.concat(all_labels_train, axis=0).numpy()"
   ]
  },
  {
   "cell_type": "code",
   "execution_count": 38,
   "id": "c460b1ad-e692-46c2-b431-6bc638771cae",
   "metadata": {},
   "outputs": [],
   "source": [
    "all_labels_val = []\n",
    "for batch in ds_val:\n",
    "    inputs, labels = batch\n",
    "    all_labels_val.append(labels)\n",
    "\n",
    "all_labels_val = tf.concat(all_labels_val, axis=0).numpy()"
   ]
  },
  {
   "cell_type": "code",
   "execution_count": 35,
   "id": "0bb61171-e9a3-4e5c-a075-87d8da810f9e",
   "metadata": {},
   "outputs": [
    {
     "data": {
      "text/plain": [
       "(5.9273086, array([0.6667969923385437], dtype=object), 0.0)"
      ]
     },
     "execution_count": 35,
     "metadata": {},
     "output_type": "execute_result"
    }
   ],
   "source": [
    "print_stats(pd.Series(all_labels[:,0]), pred)"
   ]
  },
  {
   "cell_type": "code",
   "execution_count": 39,
   "id": "7b211fb8-61cf-43be-8088-b70ce793a148",
   "metadata": {},
   "outputs": [
    {
     "data": {
      "text/plain": [
       "(6.433591, array([0.5845823182651385], dtype=object), 0.0)"
      ]
     },
     "execution_count": 39,
     "metadata": {},
     "output_type": "execute_result"
    }
   ],
   "source": [
    "print_stats(pd.Series(all_labels_val[:,0]), pred_val)"
   ]
  },
  {
   "cell_type": "code",
   "execution_count": 36,
   "id": "c11dfee8-71df-4484-93f2-d7f141f0594c",
   "metadata": {},
   "outputs": [
    {
     "data": {
      "text/plain": [
       "(5.6764474, array([0.7708411409388707], dtype=object), 0.0)"
      ]
     },
     "execution_count": 36,
     "metadata": {},
     "output_type": "execute_result"
    }
   ],
   "source": [
    "print_stats(pd.Series(all_labels_train[:,0]), pred_train)"
   ]
  }
 ],
 "metadata": {
  "kernelspec": {
   "display_name": "Python [conda env:tf2]",
   "language": "python",
   "name": "conda-env-tf2-py"
  },
  "language_info": {
   "codemirror_mode": {
    "name": "ipython",
    "version": 3
   },
   "file_extension": ".py",
   "mimetype": "text/x-python",
   "name": "python",
   "nbconvert_exporter": "python",
   "pygments_lexer": "ipython3",
   "version": "3.7.12"
  }
 },
 "nbformat": 4,
 "nbformat_minor": 5
}
