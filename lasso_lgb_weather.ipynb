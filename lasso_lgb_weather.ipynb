{
 "cells": [
  {
   "cell_type": "markdown",
   "id": "ad5c8165-c47a-4ab0-9a72-19a73ff76e5d",
   "metadata": {},
   "source": [
    "# Lasso + LGB on weather data"
   ]
  },
  {
   "cell_type": "markdown",
   "id": "f7595ce1-a818-402a-ab64-09b77d8ae386",
   "metadata": {},
   "source": [
    "Adapted from https://www.tensorflow.org/tutorials/structured_data/time_series"
   ]
  },
  {
   "cell_type": "code",
   "execution_count": 1,
   "id": "3bdb7b80-7fae-48bb-96ab-08ff21badbb7",
   "metadata": {},
   "outputs": [],
   "source": [
    "import numpy as np\n",
    "import pandas as pd\n",
    "import matplotlib.pyplot as plt"
   ]
  },
  {
   "cell_type": "code",
   "execution_count": 2,
   "id": "9cfe4234-4d38-4082-be16-3b90e025cd3b",
   "metadata": {},
   "outputs": [
    {
     "name": "stderr",
     "output_type": "stream",
     "text": [
      "<frozen importlib._bootstrap>:228: RuntimeWarning: scipy._lib.messagestream.MessageStream size changed, may indicate binary incompatibility. Expected 56 from C header, got 64 from PyObject\n"
     ]
    }
   ],
   "source": [
    "import seaborn as sns"
   ]
  },
  {
   "cell_type": "code",
   "execution_count": 3,
   "id": "6075a611-b8c6-4112-ab39-fbc9a153bd31",
   "metadata": {},
   "outputs": [],
   "source": [
    "import lightgbm as lgb"
   ]
  },
  {
   "cell_type": "code",
   "execution_count": 4,
   "id": "5172c166-2751-49fb-8051-ca3eeef51601",
   "metadata": {},
   "outputs": [],
   "source": [
    "from scipy import stats\n",
    "import os\n",
    "import sys\n",
    "import pathlib\n",
    "\n",
    "pd.set_option(\"display.precision\", 2)"
   ]
  },
  {
   "cell_type": "code",
   "execution_count": 5,
   "id": "e48df229-8e93-4960-bef9-10359235c155",
   "metadata": {},
   "outputs": [],
   "source": [
    "from sklearn.metrics import mean_squared_error"
   ]
  },
  {
   "cell_type": "code",
   "execution_count": 6,
   "id": "705f935e-f751-42dd-9fc1-43fee376a807",
   "metadata": {},
   "outputs": [],
   "source": [
    "path = 'data/weather/'"
   ]
  },
  {
   "cell_type": "code",
   "execution_count": 7,
   "id": "57e73454-a02c-47ec-a9d7-e6d635c9b16c",
   "metadata": {},
   "outputs": [],
   "source": [
    "# data files\n",
    "file_x_train = \"x_train.csv\"\n",
    "file_x_val = \"x_val.csv\"\n",
    "file_x_test = \"x_test.csv\"\n",
    "file_y_train = \"y_train.csv\"\n",
    "file_y_val = \"y_val.csv\"\n",
    "file_y_test = \"y_test.csv\""
   ]
  },
  {
   "cell_type": "code",
   "execution_count": 8,
   "id": "1bb1f81a-86ff-47cd-bf27-0d3b73fac52b",
   "metadata": {},
   "outputs": [],
   "source": [
    "x_train = pd.read_csv(f'{path}{file_x_train}', index_col=0)\n",
    "x_val = pd.read_csv(f'{path}{file_x_val}', index_col=0)\n",
    "x_test = pd.read_csv(f'{path}{file_x_test}', index_col=0)\n",
    "\n",
    "y_train = pd.read_csv(f'{path}{file_y_train}', index_col=0).iloc[:,0]\n",
    "y_val = pd.read_csv(f'{path}{file_y_val}', index_col=0).iloc[:,0]\n",
    "y_test = pd.read_csv(f'{path}{file_y_test}', index_col=0).iloc[:,0]"
   ]
  },
  {
   "cell_type": "code",
   "execution_count": 9,
   "id": "e49679ee-4a32-4feb-80c1-32dc82c2ec3c",
   "metadata": {},
   "outputs": [
    {
     "data": {
      "text/plain": [
       "((49063, 7), (14018, 7), (7010, 7))"
      ]
     },
     "execution_count": 9,
     "metadata": {},
     "output_type": "execute_result"
    }
   ],
   "source": [
    "x_train.shape, x_val.shape, x_test.shape"
   ]
  },
  {
   "cell_type": "code",
   "execution_count": 10,
   "id": "362ba3bd-5774-4bbd-bd48-53bd29014945",
   "metadata": {},
   "outputs": [
    {
     "data": {
      "text/plain": [
       "((49063,), (14018,), (7010,))"
      ]
     },
     "execution_count": 10,
     "metadata": {},
     "output_type": "execute_result"
    }
   ],
   "source": [
    "y_train.shape, y_val.shape, y_test.shape"
   ]
  },
  {
   "cell_type": "markdown",
   "id": "f030c17e-7c42-441e-ab99-bf7148faac18",
   "metadata": {},
   "source": [
    "### Modelling"
   ]
  },
  {
   "cell_type": "code",
   "execution_count": 11,
   "id": "4725f23b-4237-4116-be91-6a31da3579aa",
   "metadata": {},
   "outputs": [],
   "source": [
    "def print_stats(y, pred):\n",
    "    \n",
    "    rmse = np.sqrt(mean_squared_error(y, pred))\n",
    "    pearson_coef, p_value = stats.pearsonr(y, pred)\n",
    "    # na_count = y.isna().astype(int).sum() + pd.Series(pred).isna().astype(int).sum()\n",
    "    \n",
    "    return rmse, pearson_coef, p_value"
   ]
  },
  {
   "cell_type": "markdown",
   "id": "0ecb164f-04a1-43ba-a7aa-4d78edbd1ad0",
   "metadata": {
    "tags": []
   },
   "source": [
    "### Base Case - Lasso"
   ]
  },
  {
   "cell_type": "code",
   "execution_count": 12,
   "id": "d9b9419c-a048-4d71-8686-d715a8dc164f",
   "metadata": {},
   "outputs": [],
   "source": [
    "from sklearn.linear_model import LassoCV, Lasso\n"
   ]
  },
  {
   "cell_type": "code",
   "execution_count": 13,
   "id": "0f95987a-136a-40d6-9376-c348fa9fae0f",
   "metadata": {},
   "outputs": [
    {
     "data": {
      "text/html": [
       "<style>#sk-container-id-1 {color: black;background-color: white;}#sk-container-id-1 pre{padding: 0;}#sk-container-id-1 div.sk-toggleable {background-color: white;}#sk-container-id-1 label.sk-toggleable__label {cursor: pointer;display: block;width: 100%;margin-bottom: 0;padding: 0.3em;box-sizing: border-box;text-align: center;}#sk-container-id-1 label.sk-toggleable__label-arrow:before {content: \"▸\";float: left;margin-right: 0.25em;color: #696969;}#sk-container-id-1 label.sk-toggleable__label-arrow:hover:before {color: black;}#sk-container-id-1 div.sk-estimator:hover label.sk-toggleable__label-arrow:before {color: black;}#sk-container-id-1 div.sk-toggleable__content {max-height: 0;max-width: 0;overflow: hidden;text-align: left;background-color: #f0f8ff;}#sk-container-id-1 div.sk-toggleable__content pre {margin: 0.2em;color: black;border-radius: 0.25em;background-color: #f0f8ff;}#sk-container-id-1 input.sk-toggleable__control:checked~div.sk-toggleable__content {max-height: 200px;max-width: 100%;overflow: auto;}#sk-container-id-1 input.sk-toggleable__control:checked~label.sk-toggleable__label-arrow:before {content: \"▾\";}#sk-container-id-1 div.sk-estimator input.sk-toggleable__control:checked~label.sk-toggleable__label {background-color: #d4ebff;}#sk-container-id-1 div.sk-label input.sk-toggleable__control:checked~label.sk-toggleable__label {background-color: #d4ebff;}#sk-container-id-1 input.sk-hidden--visually {border: 0;clip: rect(1px 1px 1px 1px);clip: rect(1px, 1px, 1px, 1px);height: 1px;margin: -1px;overflow: hidden;padding: 0;position: absolute;width: 1px;}#sk-container-id-1 div.sk-estimator {font-family: monospace;background-color: #f0f8ff;border: 1px dotted black;border-radius: 0.25em;box-sizing: border-box;margin-bottom: 0.5em;}#sk-container-id-1 div.sk-estimator:hover {background-color: #d4ebff;}#sk-container-id-1 div.sk-parallel-item::after {content: \"\";width: 100%;border-bottom: 1px solid gray;flex-grow: 1;}#sk-container-id-1 div.sk-label:hover label.sk-toggleable__label {background-color: #d4ebff;}#sk-container-id-1 div.sk-serial::before {content: \"\";position: absolute;border-left: 1px solid gray;box-sizing: border-box;top: 0;bottom: 0;left: 50%;z-index: 0;}#sk-container-id-1 div.sk-serial {display: flex;flex-direction: column;align-items: center;background-color: white;padding-right: 0.2em;padding-left: 0.2em;position: relative;}#sk-container-id-1 div.sk-item {position: relative;z-index: 1;}#sk-container-id-1 div.sk-parallel {display: flex;align-items: stretch;justify-content: center;background-color: white;position: relative;}#sk-container-id-1 div.sk-item::before, #sk-container-id-1 div.sk-parallel-item::before {content: \"\";position: absolute;border-left: 1px solid gray;box-sizing: border-box;top: 0;bottom: 0;left: 50%;z-index: -1;}#sk-container-id-1 div.sk-parallel-item {display: flex;flex-direction: column;z-index: 1;position: relative;background-color: white;}#sk-container-id-1 div.sk-parallel-item:first-child::after {align-self: flex-end;width: 50%;}#sk-container-id-1 div.sk-parallel-item:last-child::after {align-self: flex-start;width: 50%;}#sk-container-id-1 div.sk-parallel-item:only-child::after {width: 0;}#sk-container-id-1 div.sk-dashed-wrapped {border: 1px dashed gray;margin: 0 0.4em 0.5em 0.4em;box-sizing: border-box;padding-bottom: 0.4em;background-color: white;}#sk-container-id-1 div.sk-label label {font-family: monospace;font-weight: bold;display: inline-block;line-height: 1.2em;}#sk-container-id-1 div.sk-label-container {text-align: center;}#sk-container-id-1 div.sk-container {/* jupyter's `normalize.less` sets `[hidden] { display: none; }` but bootstrap.min.css set `[hidden] { display: none !important; }` so we also need the `!important` here to be able to override the default hidden behavior on the sphinx rendered scikit-learn.org. See: https://github.com/scikit-learn/scikit-learn/issues/21755 */display: inline-block !important;position: relative;}#sk-container-id-1 div.sk-text-repr-fallback {display: none;}</style><div id=\"sk-container-id-1\" class=\"sk-top-container\"><div class=\"sk-text-repr-fallback\"><pre>LassoCV(alphas=[0.005, 0.01, 0.1, 1.0, 10.0], cv=5)</pre><b>In a Jupyter environment, please rerun this cell to show the HTML representation or trust the notebook. <br />On GitHub, the HTML representation is unable to render, please try loading this page with nbviewer.org.</b></div><div class=\"sk-container\" hidden><div class=\"sk-item\"><div class=\"sk-estimator sk-toggleable\"><input class=\"sk-toggleable__control sk-hidden--visually\" id=\"sk-estimator-id-1\" type=\"checkbox\" checked><label for=\"sk-estimator-id-1\" class=\"sk-toggleable__label sk-toggleable__label-arrow\">LassoCV</label><div class=\"sk-toggleable__content\"><pre>LassoCV(alphas=[0.005, 0.01, 0.1, 1.0, 10.0], cv=5)</pre></div></div></div></div></div>"
      ],
      "text/plain": [
       "LassoCV(alphas=[0.005, 0.01, 0.1, 1.0, 10.0], cv=5)"
      ]
     },
     "execution_count": 13,
     "metadata": {},
     "output_type": "execute_result"
    }
   ],
   "source": [
    "# Create a list of alpha values to search over (you can customize this)\n",
    "alphas = [0.005, 0.01, 0.1, 1.0, 10.0]\n",
    "\n",
    "# Create a LassoCV model with cross-validation\n",
    "lasso_cv = LassoCV(alphas=alphas, cv=5)\n",
    "\n",
    "# Fit the model to the training data\n",
    "lasso_cv.fit(x_train, y_train)"
   ]
  },
  {
   "cell_type": "code",
   "execution_count": 14,
   "id": "5e928a97-2249-4d3a-aedb-ddb3f127546d",
   "metadata": {},
   "outputs": [
    {
     "name": "stdout",
     "output_type": "stream",
     "text": [
      "Optimal Alpha: 0.01\n"
     ]
    }
   ],
   "source": [
    "optimal_alpha = lasso_cv.alpha_\n",
    "print(\"Optimal Alpha:\", optimal_alpha)"
   ]
  },
  {
   "cell_type": "code",
   "execution_count": 15,
   "id": "3d6f5692-c486-4600-91c4-fdde1ba4bc6c",
   "metadata": {},
   "outputs": [
    {
     "data": {
      "text/html": [
       "<style>#sk-container-id-2 {color: black;background-color: white;}#sk-container-id-2 pre{padding: 0;}#sk-container-id-2 div.sk-toggleable {background-color: white;}#sk-container-id-2 label.sk-toggleable__label {cursor: pointer;display: block;width: 100%;margin-bottom: 0;padding: 0.3em;box-sizing: border-box;text-align: center;}#sk-container-id-2 label.sk-toggleable__label-arrow:before {content: \"▸\";float: left;margin-right: 0.25em;color: #696969;}#sk-container-id-2 label.sk-toggleable__label-arrow:hover:before {color: black;}#sk-container-id-2 div.sk-estimator:hover label.sk-toggleable__label-arrow:before {color: black;}#sk-container-id-2 div.sk-toggleable__content {max-height: 0;max-width: 0;overflow: hidden;text-align: left;background-color: #f0f8ff;}#sk-container-id-2 div.sk-toggleable__content pre {margin: 0.2em;color: black;border-radius: 0.25em;background-color: #f0f8ff;}#sk-container-id-2 input.sk-toggleable__control:checked~div.sk-toggleable__content {max-height: 200px;max-width: 100%;overflow: auto;}#sk-container-id-2 input.sk-toggleable__control:checked~label.sk-toggleable__label-arrow:before {content: \"▾\";}#sk-container-id-2 div.sk-estimator input.sk-toggleable__control:checked~label.sk-toggleable__label {background-color: #d4ebff;}#sk-container-id-2 div.sk-label input.sk-toggleable__control:checked~label.sk-toggleable__label {background-color: #d4ebff;}#sk-container-id-2 input.sk-hidden--visually {border: 0;clip: rect(1px 1px 1px 1px);clip: rect(1px, 1px, 1px, 1px);height: 1px;margin: -1px;overflow: hidden;padding: 0;position: absolute;width: 1px;}#sk-container-id-2 div.sk-estimator {font-family: monospace;background-color: #f0f8ff;border: 1px dotted black;border-radius: 0.25em;box-sizing: border-box;margin-bottom: 0.5em;}#sk-container-id-2 div.sk-estimator:hover {background-color: #d4ebff;}#sk-container-id-2 div.sk-parallel-item::after {content: \"\";width: 100%;border-bottom: 1px solid gray;flex-grow: 1;}#sk-container-id-2 div.sk-label:hover label.sk-toggleable__label {background-color: #d4ebff;}#sk-container-id-2 div.sk-serial::before {content: \"\";position: absolute;border-left: 1px solid gray;box-sizing: border-box;top: 0;bottom: 0;left: 50%;z-index: 0;}#sk-container-id-2 div.sk-serial {display: flex;flex-direction: column;align-items: center;background-color: white;padding-right: 0.2em;padding-left: 0.2em;position: relative;}#sk-container-id-2 div.sk-item {position: relative;z-index: 1;}#sk-container-id-2 div.sk-parallel {display: flex;align-items: stretch;justify-content: center;background-color: white;position: relative;}#sk-container-id-2 div.sk-item::before, #sk-container-id-2 div.sk-parallel-item::before {content: \"\";position: absolute;border-left: 1px solid gray;box-sizing: border-box;top: 0;bottom: 0;left: 50%;z-index: -1;}#sk-container-id-2 div.sk-parallel-item {display: flex;flex-direction: column;z-index: 1;position: relative;background-color: white;}#sk-container-id-2 div.sk-parallel-item:first-child::after {align-self: flex-end;width: 50%;}#sk-container-id-2 div.sk-parallel-item:last-child::after {align-self: flex-start;width: 50%;}#sk-container-id-2 div.sk-parallel-item:only-child::after {width: 0;}#sk-container-id-2 div.sk-dashed-wrapped {border: 1px dashed gray;margin: 0 0.4em 0.5em 0.4em;box-sizing: border-box;padding-bottom: 0.4em;background-color: white;}#sk-container-id-2 div.sk-label label {font-family: monospace;font-weight: bold;display: inline-block;line-height: 1.2em;}#sk-container-id-2 div.sk-label-container {text-align: center;}#sk-container-id-2 div.sk-container {/* jupyter's `normalize.less` sets `[hidden] { display: none; }` but bootstrap.min.css set `[hidden] { display: none !important; }` so we also need the `!important` here to be able to override the default hidden behavior on the sphinx rendered scikit-learn.org. See: https://github.com/scikit-learn/scikit-learn/issues/21755 */display: inline-block !important;position: relative;}#sk-container-id-2 div.sk-text-repr-fallback {display: none;}</style><div id=\"sk-container-id-2\" class=\"sk-top-container\"><div class=\"sk-text-repr-fallback\"><pre>Lasso(alpha=0.01)</pre><b>In a Jupyter environment, please rerun this cell to show the HTML representation or trust the notebook. <br />On GitHub, the HTML representation is unable to render, please try loading this page with nbviewer.org.</b></div><div class=\"sk-container\" hidden><div class=\"sk-item\"><div class=\"sk-estimator sk-toggleable\"><input class=\"sk-toggleable__control sk-hidden--visually\" id=\"sk-estimator-id-2\" type=\"checkbox\" checked><label for=\"sk-estimator-id-2\" class=\"sk-toggleable__label sk-toggleable__label-arrow\">Lasso</label><div class=\"sk-toggleable__content\"><pre>Lasso(alpha=0.01)</pre></div></div></div></div></div>"
      ],
      "text/plain": [
       "Lasso(alpha=0.01)"
      ]
     },
     "execution_count": 15,
     "metadata": {},
     "output_type": "execute_result"
    }
   ],
   "source": [
    "final_lasso_model = Lasso(alpha=optimal_alpha)\n",
    "final_lasso_model.fit(x_train, y_train)"
   ]
  },
  {
   "cell_type": "code",
   "execution_count": 16,
   "id": "08836247-9b7f-4ffb-88cf-df592c9c6746",
   "metadata": {},
   "outputs": [],
   "source": [
    "pred = final_lasso_model.predict(x_test)\n",
    "rmse_test = np.sqrt(mean_squared_error(y_test, pred))"
   ]
  },
  {
   "cell_type": "code",
   "execution_count": 17,
   "id": "419d6f67-4a76-4ec2-b8b4-e84b33f6ed94",
   "metadata": {},
   "outputs": [],
   "source": [
    "pred_train = final_lasso_model.predict(x_train)\n",
    "rmse_train = np.sqrt(mean_squared_error(y_train, pred_train))"
   ]
  },
  {
   "cell_type": "code",
   "execution_count": 18,
   "id": "ccbccce3-5660-44a9-80e6-f8f5e2262727",
   "metadata": {},
   "outputs": [],
   "source": [
    "pred_val = final_lasso_model.predict(x_val)\n",
    "rmse_val = np.sqrt(mean_squared_error(y_val, pred_val))"
   ]
  },
  {
   "cell_type": "code",
   "execution_count": 19,
   "id": "020ee2e9-810a-4f70-a906-262cbf5f9dfc",
   "metadata": {},
   "outputs": [
    {
     "data": {
      "text/plain": [
       "(0, 0)"
      ]
     },
     "execution_count": 19,
     "metadata": {},
     "output_type": "execute_result"
    }
   ],
   "source": [
    "# Check if there are any na values\n",
    "y_test.isna().astype(int).sum(), pd.Series(pred).isna().astype(int).sum()"
   ]
  },
  {
   "cell_type": "code",
   "execution_count": 20,
   "id": "512f5c1e-3e27-44b3-b1ad-eecdd9be02b1",
   "metadata": {},
   "outputs": [
    {
     "data": {
      "text/plain": [
       "(7.733337573741088, 0.3427706173571371, 1.7471769346343802e-192)"
      ]
     },
     "execution_count": 20,
     "metadata": {},
     "output_type": "execute_result"
    }
   ],
   "source": [
    "print_stats(y_test, pred)"
   ]
  },
  {
   "cell_type": "code",
   "execution_count": 21,
   "id": "975f75d1-4cd0-488f-ba40-86259477151b",
   "metadata": {},
   "outputs": [
    {
     "data": {
      "text/plain": [
       "(8.087523270951838, 0.3561212181523331, 0.0)"
      ]
     },
     "execution_count": 21,
     "metadata": {},
     "output_type": "execute_result"
    }
   ],
   "source": [
    "print_stats(y_train, pred_train)"
   ]
  },
  {
   "cell_type": "code",
   "execution_count": 22,
   "id": "9ca330d7-9fee-4cdc-8773-f20eb3986ca2",
   "metadata": {},
   "outputs": [
    {
     "data": {
      "text/plain": [
       "(6.873451194648858, 0.4418126485126906, 0.0)"
      ]
     },
     "execution_count": 22,
     "metadata": {},
     "output_type": "execute_result"
    }
   ],
   "source": [
    "print_stats(y_val, pred_val)"
   ]
  },
  {
   "cell_type": "code",
   "execution_count": 23,
   "id": "b438b71b-2537-40f6-8f71-f3d5756867e4",
   "metadata": {},
   "outputs": [],
   "source": [
    "compare = pd.DataFrame(data=y_test.to_list(), columns=[\"labels\"])"
   ]
  },
  {
   "cell_type": "code",
   "execution_count": 24,
   "id": "96c2148a-c494-439c-9ec3-158388f34c26",
   "metadata": {},
   "outputs": [],
   "source": [
    "compare[\"predict\"] = pred"
   ]
  },
  {
   "cell_type": "code",
   "execution_count": 25,
   "id": "ac7fac98-d9b4-4209-8b95-83a4f986bbd9",
   "metadata": {},
   "outputs": [
    {
     "data": {
      "text/html": [
       "<div>\n",
       "<style scoped>\n",
       "    .dataframe tbody tr th:only-of-type {\n",
       "        vertical-align: middle;\n",
       "    }\n",
       "\n",
       "    .dataframe tbody tr th {\n",
       "        vertical-align: top;\n",
       "    }\n",
       "\n",
       "    .dataframe thead th {\n",
       "        text-align: right;\n",
       "    }\n",
       "</style>\n",
       "<table border=\"1\" class=\"dataframe\">\n",
       "  <thead>\n",
       "    <tr style=\"text-align: right;\">\n",
       "      <th></th>\n",
       "      <th>labels</th>\n",
       "      <th>predict</th>\n",
       "    </tr>\n",
       "  </thead>\n",
       "  <tbody>\n",
       "    <tr>\n",
       "      <th>0</th>\n",
       "      <td>2.80</td>\n",
       "      <td>6.99</td>\n",
       "    </tr>\n",
       "    <tr>\n",
       "      <th>1</th>\n",
       "      <td>2.75</td>\n",
       "      <td>7.33</td>\n",
       "    </tr>\n",
       "    <tr>\n",
       "      <th>2</th>\n",
       "      <td>2.46</td>\n",
       "      <td>4.88</td>\n",
       "    </tr>\n",
       "    <tr>\n",
       "      <th>3</th>\n",
       "      <td>1.93</td>\n",
       "      <td>5.09</td>\n",
       "    </tr>\n",
       "    <tr>\n",
       "      <th>4</th>\n",
       "      <td>1.87</td>\n",
       "      <td>4.39</td>\n",
       "    </tr>\n",
       "    <tr>\n",
       "      <th>5</th>\n",
       "      <td>1.93</td>\n",
       "      <td>3.51</td>\n",
       "    </tr>\n",
       "    <tr>\n",
       "      <th>6</th>\n",
       "      <td>1.86</td>\n",
       "      <td>2.26</td>\n",
       "    </tr>\n",
       "    <tr>\n",
       "      <th>7</th>\n",
       "      <td>1.72</td>\n",
       "      <td>2.33</td>\n",
       "    </tr>\n",
       "    <tr>\n",
       "      <th>8</th>\n",
       "      <td>1.60</td>\n",
       "      <td>1.79</td>\n",
       "    </tr>\n",
       "    <tr>\n",
       "      <th>9</th>\n",
       "      <td>1.62</td>\n",
       "      <td>2.46</td>\n",
       "    </tr>\n",
       "  </tbody>\n",
       "</table>\n",
       "</div>"
      ],
      "text/plain": [
       "   labels  predict\n",
       "0    2.80     6.99\n",
       "1    2.75     7.33\n",
       "2    2.46     4.88\n",
       "3    1.93     5.09\n",
       "4    1.87     4.39\n",
       "5    1.93     3.51\n",
       "6    1.86     2.26\n",
       "7    1.72     2.33\n",
       "8    1.60     1.79\n",
       "9    1.62     2.46"
      ]
     },
     "execution_count": 25,
     "metadata": {},
     "output_type": "execute_result"
    }
   ],
   "source": [
    "compare.iloc[:10]"
   ]
  },
  {
   "cell_type": "code",
   "execution_count": 26,
   "id": "f0dd57a9-0178-4bb1-888e-4f78b09daba3",
   "metadata": {},
   "outputs": [
    {
     "data": {
      "image/png": "[encoded data removed]",
      "text/plain": [
       "<Figure size 432x288 with 1 Axes>"
      ]
     },
     "metadata": {
      "needs_background": "light"
     },
     "output_type": "display_data"
    }
   ],
   "source": [
    "plt.scatter(y_test, pred)\n",
    "plt.xlabel(\"test\")\n",
    "plt.ylabel(\"pred\")\n",
    "plt.show()"
   ]
  },
  {
   "cell_type": "markdown",
   "id": "87c09e67-5d12-4837-920a-064dcfc47384",
   "metadata": {},
   "source": [
    "### LGB"
   ]
  },
  {
   "cell_type": "code",
   "execution_count": 30,
   "id": "c3b12c11-e096-4389-88a6-0e3fde3cd3a2",
   "metadata": {},
   "outputs": [],
   "source": [
    "random_seed = 42"
   ]
  },
  {
   "cell_type": "code",
   "execution_count": 31,
   "id": "4fe2fc63-23f4-4e28-933c-fe7382de9a1b",
   "metadata": {},
   "outputs": [
    {
     "name": "stderr",
     "output_type": "stream",
     "text": [
      "C:\\Users\\Sing\\anaconda3\\lib\\site-packages\\lightgbm\\engine.py:181: UserWarning: 'early_stopping_rounds' argument is deprecated and will be removed in a future release of LightGBM. Pass 'early_stopping()' callback via 'callbacks' argument instead.\n",
      "  _log_warning(\"'early_stopping_rounds' argument is deprecated and will be removed in a future release of LightGBM. \"\n"
     ]
    },
    {
     "name": "stdout",
     "output_type": "stream",
     "text": [
      "[LightGBM] [Warning] Found whitespace in feature_names, replace with underlines\n",
      "[LightGBM] [Warning] Auto-choosing col-wise multi-threading, the overhead of testing was 0.001525 seconds.\n",
      "You can set `force_col_wise=true` to remove the overhead.\n",
      "[LightGBM] [Info] Total Bins 1785\n",
      "[LightGBM] [Info] Number of data points in the train set: 49063, number of used features: 7\n",
      "[LightGBM] [Warning] Found whitespace in feature_names, replace with underlines\n",
      "[LightGBM] [Info] Start training from score 9.108207\n",
      "[1]\tvalid_0's rmse: 7.58211\n",
      "Training until validation scores don't improve for 10 rounds\n",
      "[2]\tvalid_0's rmse: 7.48536\n",
      "[3]\tvalid_0's rmse: 7.4037\n",
      "[4]\tvalid_0's rmse: 7.33298\n",
      "[5]\tvalid_0's rmse: 7.25699\n",
      "[6]\tvalid_0's rmse: 7.19142\n",
      "[7]\tvalid_0's rmse: 7.12797\n",
      "[8]\tvalid_0's rmse: 7.07102\n",
      "[9]\tvalid_0's rmse: 7.02245\n",
      "[10]\tvalid_0's rmse: 6.97808\n",
      "[11]\tvalid_0's rmse: 6.93304\n",
      "[12]\tvalid_0's rmse: 6.90082\n",
      "[13]\tvalid_0's rmse: 6.8642\n",
      "[14]\tvalid_0's rmse: 6.82587\n",
      "[15]\tvalid_0's rmse: 6.79301\n",
      "[16]\tvalid_0's rmse: 6.76303\n",
      "[17]\tvalid_0's rmse: 6.73467\n",
      "[18]\tvalid_0's rmse: 6.70983\n",
      "[19]\tvalid_0's rmse: 6.6829\n",
      "[20]\tvalid_0's rmse: 6.66183\n",
      "[21]\tvalid_0's rmse: 6.64096\n",
      "[22]\tvalid_0's rmse: 6.6221\n",
      "[23]\tvalid_0's rmse: 6.60111\n",
      "[24]\tvalid_0's rmse: 6.58535\n",
      "[25]\tvalid_0's rmse: 6.57029\n",
      "[26]\tvalid_0's rmse: 6.55249\n",
      "[27]\tvalid_0's rmse: 6.54195\n",
      "[28]\tvalid_0's rmse: 6.52993\n",
      "[29]\tvalid_0's rmse: 6.51901\n",
      "[30]\tvalid_0's rmse: 6.50977\n",
      "[31]\tvalid_0's rmse: 6.49758\n",
      "[32]\tvalid_0's rmse: 6.49204\n",
      "[33]\tvalid_0's rmse: 6.48419\n",
      "[34]\tvalid_0's rmse: 6.47432\n",
      "[35]\tvalid_0's rmse: 6.47097\n",
      "[36]\tvalid_0's rmse: 6.46606\n",
      "[37]\tvalid_0's rmse: 6.46187\n",
      "[38]\tvalid_0's rmse: 6.45443\n",
      "[39]\tvalid_0's rmse: 6.45149\n",
      "[40]\tvalid_0's rmse: 6.44265\n",
      "[41]\tvalid_0's rmse: 6.4495\n",
      "[42]\tvalid_0's rmse: 6.44512\n",
      "[43]\tvalid_0's rmse: 6.44166\n",
      "[44]\tvalid_0's rmse: 6.43703\n",
      "[45]\tvalid_0's rmse: 6.43058\n",
      "[46]\tvalid_0's rmse: 6.4292\n",
      "[47]\tvalid_0's rmse: 6.42781\n",
      "[48]\tvalid_0's rmse: 6.42558\n",
      "[49]\tvalid_0's rmse: 6.42345\n",
      "[50]\tvalid_0's rmse: 6.42049\n",
      "[51]\tvalid_0's rmse: 6.42282\n",
      "[52]\tvalid_0's rmse: 6.42068\n",
      "[53]\tvalid_0's rmse: 6.42008\n",
      "[54]\tvalid_0's rmse: 6.42474\n",
      "[55]\tvalid_0's rmse: 6.42021\n",
      "[56]\tvalid_0's rmse: 6.42471\n",
      "[57]\tvalid_0's rmse: 6.42742\n",
      "[58]\tvalid_0's rmse: 6.43572\n",
      "[59]\tvalid_0's rmse: 6.43329\n",
      "[60]\tvalid_0's rmse: 6.43362\n",
      "[61]\tvalid_0's rmse: 6.43821\n",
      "[62]\tvalid_0's rmse: 6.44346\n",
      "[63]\tvalid_0's rmse: 6.44307\n",
      "Early stopping, best iteration is:\n",
      "[53]\tvalid_0's rmse: 6.42008\n"
     ]
    }
   ],
   "source": [
    "# Create a LightGBM dataset for training\n",
    "train_data = lgb.Dataset(x_train, label=y_train)\n",
    "val_data = lgb.Dataset(x_val, label=y_val, reference=train_data)\n",
    "\n",
    "# Set hyperparameters for the LightGBM model\n",
    "params = {\n",
    "    'objective': 'regression',\n",
    "    'metric': 'rmse',  # Root Mean Squared Error\n",
    "    'boosting_type': 'gbdt',  # Gradient Boosting Decision Tree\n",
    "    'num_leaves': 31,  # Maximum number of leaves in one tree\n",
    "    'learning_rate': 0.05,  # Learning rate\n",
    "    'feature_fraction': 0.9,  # Feature fraction for training\n",
    "    'seed': random_seed,\n",
    "}\n",
    "\n",
    "# Train the LightGBM model\n",
    "num_boost_round = 100  # Number of boosting rounds (you can adjust this)\n",
    "bst = lgb.train(params, train_data, num_boost_round=num_boost_round, valid_sets=[val_data], early_stopping_rounds=10)\n"
   ]
  },
  {
   "cell_type": "code",
   "execution_count": 32,
   "id": "ef795e46-4a9e-4d96-b387-03ece027059b",
   "metadata": {},
   "outputs": [],
   "source": [
    "pred = bst.predict(x_test, num_iteration=bst.best_iteration)\n",
    "rmse_test = np.sqrt(mean_squared_error(y_test, pred))"
   ]
  },
  {
   "cell_type": "code",
   "execution_count": 33,
   "id": "55ccc888-39bd-450f-a4df-f18ee3915c0b",
   "metadata": {},
   "outputs": [],
   "source": [
    "pred_train = bst.predict(x_train, num_iteration=bst.best_iteration)\n",
    "rmse_train = np.sqrt(mean_squared_error(y_train, pred_train))"
   ]
  },
  {
   "cell_type": "code",
   "execution_count": 34,
   "id": "471e514a-580c-4f29-88f5-ce1f9f41be51",
   "metadata": {},
   "outputs": [],
   "source": [
    "pred_val = bst.predict(x_val, num_iteration=bst.best_iteration)\n",
    "rmse_val = np.sqrt(mean_squared_error(y_val, pred_val))"
   ]
  },
  {
   "cell_type": "code",
   "execution_count": 35,
   "id": "da656548-ba7f-4997-bb84-0214f25f9704",
   "metadata": {},
   "outputs": [
    {
     "data": {
      "text/plain": [
       "(6.801568450473069, 6.420078893345125, 6.556730593924566)"
      ]
     },
     "execution_count": 35,
     "metadata": {},
     "output_type": "execute_result"
    }
   ],
   "source": [
    "rmse_train, rmse_val, rmse_test"
   ]
  },
  {
   "cell_type": "code",
   "execution_count": 36,
   "id": "43d69196-01b1-486c-ad97-a1971d09a089",
   "metadata": {},
   "outputs": [],
   "source": [
    "compare = pd.DataFrame(data=y_test.to_list(), columns=[\"labels\"])"
   ]
  },
  {
   "cell_type": "code",
   "execution_count": 37,
   "id": "77819ca5-3904-4750-9960-96725180b517",
   "metadata": {},
   "outputs": [],
   "source": [
    "compare[\"predict\"] = pred"
   ]
  },
  {
   "cell_type": "code",
   "execution_count": 38,
   "id": "8002d071-0204-4625-b000-665d4ac5f97b",
   "metadata": {},
   "outputs": [
    {
     "data": {
      "text/html": [
       "<div>\n",
       "<style scoped>\n",
       "    .dataframe tbody tr th:only-of-type {\n",
       "        vertical-align: middle;\n",
       "    }\n",
       "\n",
       "    .dataframe tbody tr th {\n",
       "        vertical-align: top;\n",
       "    }\n",
       "\n",
       "    .dataframe thead th {\n",
       "        text-align: right;\n",
       "    }\n",
       "</style>\n",
       "<table border=\"1\" class=\"dataframe\">\n",
       "  <thead>\n",
       "    <tr style=\"text-align: right;\">\n",
       "      <th></th>\n",
       "      <th>labels</th>\n",
       "      <th>predict</th>\n",
       "    </tr>\n",
       "  </thead>\n",
       "  <tbody>\n",
       "    <tr>\n",
       "      <th>0</th>\n",
       "      <td>2.80</td>\n",
       "      <td>6.89</td>\n",
       "    </tr>\n",
       "    <tr>\n",
       "      <th>1</th>\n",
       "      <td>2.75</td>\n",
       "      <td>6.73</td>\n",
       "    </tr>\n",
       "    <tr>\n",
       "      <th>2</th>\n",
       "      <td>2.46</td>\n",
       "      <td>5.94</td>\n",
       "    </tr>\n",
       "    <tr>\n",
       "      <th>3</th>\n",
       "      <td>1.93</td>\n",
       "      <td>5.49</td>\n",
       "    </tr>\n",
       "    <tr>\n",
       "      <th>4</th>\n",
       "      <td>1.87</td>\n",
       "      <td>4.74</td>\n",
       "    </tr>\n",
       "    <tr>\n",
       "      <th>5</th>\n",
       "      <td>1.93</td>\n",
       "      <td>3.69</td>\n",
       "    </tr>\n",
       "    <tr>\n",
       "      <th>6</th>\n",
       "      <td>1.86</td>\n",
       "      <td>3.73</td>\n",
       "    </tr>\n",
       "    <tr>\n",
       "      <th>7</th>\n",
       "      <td>1.72</td>\n",
       "      <td>2.98</td>\n",
       "    </tr>\n",
       "    <tr>\n",
       "      <th>8</th>\n",
       "      <td>1.60</td>\n",
       "      <td>2.94</td>\n",
       "    </tr>\n",
       "    <tr>\n",
       "      <th>9</th>\n",
       "      <td>1.62</td>\n",
       "      <td>2.79</td>\n",
       "    </tr>\n",
       "  </tbody>\n",
       "</table>\n",
       "</div>"
      ],
      "text/plain": [
       "   labels  predict\n",
       "0    2.80     6.89\n",
       "1    2.75     6.73\n",
       "2    2.46     5.94\n",
       "3    1.93     5.49\n",
       "4    1.87     4.74\n",
       "5    1.93     3.69\n",
       "6    1.86     3.73\n",
       "7    1.72     2.98\n",
       "8    1.60     2.94\n",
       "9    1.62     2.79"
      ]
     },
     "execution_count": 38,
     "metadata": {},
     "output_type": "execute_result"
    }
   ],
   "source": [
    "compare.iloc[:10]"
   ]
  },
  {
   "cell_type": "code",
   "execution_count": 39,
   "id": "9c082ec3-934e-4f34-a896-ee151e95a8e4",
   "metadata": {},
   "outputs": [
    {
     "data": {
      "image/png": "[encoded data removed]",
      "text/plain": [
       "<Figure size 432x288 with 1 Axes>"
      ]
     },
     "metadata": {
      "needs_background": "light"
     },
     "output_type": "display_data"
    }
   ],
   "source": [
    "plt.scatter(y_test, pred)\n",
    "plt.xlabel(\"test\")\n",
    "plt.ylabel(\"pred\")\n",
    "plt.show()"
   ]
  },
  {
   "cell_type": "code",
   "execution_count": 44,
   "id": "b596995d-0ec5-48ce-9117-7ce213e562b5",
   "metadata": {},
   "outputs": [
    {
     "data": {
      "text/plain": [
       "(6.556730593924566, 0.6198775092099104, 0.0)"
      ]
     },
     "execution_count": 44,
     "metadata": {},
     "output_type": "execute_result"
    }
   ],
   "source": [
    "print_stats(y_test, pred)"
   ]
  },
  {
   "cell_type": "code",
   "execution_count": 46,
   "id": "9a046c6c-626a-4c06-8536-c4edb4dce74c",
   "metadata": {},
   "outputs": [
    {
     "data": {
      "text/plain": [
       "(6.420078893345125, 0.5439347168545507, 0.0)"
      ]
     },
     "execution_count": 46,
     "metadata": {},
     "output_type": "execute_result"
    }
   ],
   "source": [
    "print_stats(y_val, pred_val)"
   ]
  },
  {
   "cell_type": "code",
   "execution_count": 45,
   "id": "fb1b1cee-eece-4e33-9eb3-b53e2412865b",
   "metadata": {},
   "outputs": [
    {
     "data": {
      "text/plain": [
       "(6.801568450473069, 0.6412244058452246, 0.0)"
      ]
     },
     "execution_count": 45,
     "metadata": {},
     "output_type": "execute_result"
    }
   ],
   "source": [
    "print_stats(y_train, pred_train)"
   ]
  }
 ],
 "metadata": {
  "kernelspec": {
   "display_name": "Python [conda env:root] *",
   "language": "python",
   "name": "conda-root-py"
  },
  "language_info": {
   "codemirror_mode": {
    "name": "ipython",
    "version": 3
   },
   "file_extension": ".py",
   "mimetype": "text/x-python",
   "name": "python",
   "nbconvert_exporter": "python",
   "pygments_lexer": "ipython3",
   "version": "3.9.7"
  }
 },
 "nbformat": 4,
 "nbformat_minor": 5
}
